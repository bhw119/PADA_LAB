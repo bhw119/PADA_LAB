{
 "cells": [
  {
   "cell_type": "code",
   "execution_count": 1,
   "id": "56bb89b4-f1c5-46af-8253-eb9b93fa799d",
   "metadata": {},
   "outputs": [
    {
     "data": {
      "application/vnd.jupyter.widget-view+json": {
       "model_id": "6f22c4229be24144aa6f92042b384975",
       "version_major": 2,
       "version_minor": 0
      },
      "text/plain": [
       "Summarize dataset:   0%|          | 0/5 [00:00<?, ?it/s]"
      ]
     },
     "metadata": {},
     "output_type": "display_data"
    },
    {
     "data": {
      "application/vnd.jupyter.widget-view+json": {
       "model_id": "63891c57f752427682889de08e429e81",
       "version_major": 2,
       "version_minor": 0
      },
      "text/plain": [
       "Generate report structure:   0%|          | 0/1 [00:00<?, ?it/s]"
      ]
     },
     "metadata": {},
     "output_type": "display_data"
    },
    {
     "data": {
      "application/vnd.jupyter.widget-view+json": {
       "model_id": "2e3a037be7d74e78b02b4eba48427794",
       "version_major": 2,
       "version_minor": 0
      },
      "text/plain": [
       "Render HTML:   0%|          | 0/1 [00:00<?, ?it/s]"
      ]
     },
     "metadata": {},
     "output_type": "display_data"
    },
    {
     "name": "stderr",
     "output_type": "stream",
     "text": [
      "/opt/anaconda3/lib/python3.12/site-packages/ydata_profiling/profile_report.py:379: UserWarning: Extension .hrml not supported. For now we assume .html was intended. To remove this warning, please use .html or .json.\n",
      "  warnings.warn(\n"
     ]
    },
    {
     "data": {
      "application/vnd.jupyter.widget-view+json": {
       "model_id": "73d7e68ea1424a5fa184646de2a434e9",
       "version_major": 2,
       "version_minor": 0
      },
      "text/plain": [
       "Export report to file:   0%|          | 0/1 [00:00<?, ?it/s]"
      ]
     },
     "metadata": {},
     "output_type": "display_data"
    }
   ],
   "source": [
    "import pandas as pd\n",
    "from ydata_profiling import ProfileReport\n",
    "\n",
    "# CSV 파일 불러오기\n",
    "df = pd.read_csv(\"/Users/hyunwoo/Desktop/PADA/PADA_LAB/calculated/calculated_all_ctm/audible_calculated.csv\")\n",
    "\n",
    "# 'Helpfulness' 열의 \"No Helpfulness Info\" 값을 0으로 바꾸기\n",
    "df['Helpfulness'] = df['Helpfulness'].replace(\"No Helpfulness Info\", 0)\n",
    "\n",
    "# 수정된 데이터를 새로운 CSV 파일로 저장\n",
    "df.to_csv(\"/Users/hyunwoo/Desktop/audible_EDA.csv\", index=False)\n",
    "\n",
    "# 프로파일링 리포트 생성 (수정된 파일 기반)\n",
    "profile = ProfileReport(df, title=\"Profiling Report\")\n",
    "profile.to_file(\"/Users/hyunwoo/Desktop/PADA/PADA_LAB/EDA/audible_EDA.hrml\")"
   ]
  },
  {
   "cell_type": "code",
   "execution_count": null,
   "id": "a67dd0b3-6192-44af-a0c0-dcf6d3eb1f52",
   "metadata": {},
   "outputs": [],
   "source": []
  }
 ],
 "metadata": {
  "kernelspec": {
   "display_name": "Python 3 (ipykernel)",
   "language": "python",
   "name": "python3"
  },
  "language_info": {
   "codemirror_mode": {
    "name": "ipython",
    "version": 3
   },
   "file_extension": ".py",
   "mimetype": "text/x-python",
   "name": "python",
   "nbconvert_exporter": "python",
   "pygments_lexer": "ipython3",
   "version": "3.12.7"
  }
 },
 "nbformat": 4,
 "nbformat_minor": 5
}
