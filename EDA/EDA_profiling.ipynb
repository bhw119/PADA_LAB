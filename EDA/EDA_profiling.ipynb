{
 "cells": [
  {
   "cell_type": "markdown",
   "id": "88484b1a-902c-49c5-b352-f017998d5ebb",
   "metadata": {},
   "source": [
    "# amazon"
   ]
  },
  {
   "cell_type": "code",
   "execution_count": 1,
   "id": "2ff78acb-585c-4f02-892f-9f5368298455",
   "metadata": {},
   "outputs": [
    {
     "ename": "ModuleNotFoundError",
     "evalue": "No module named 'ydata_profiling'",
     "output_type": "error",
     "traceback": [
      "\u001b[0;31m---------------------------------------------------------------------------\u001b[0m",
      "\u001b[0;31mModuleNotFoundError\u001b[0m                       Traceback (most recent call last)",
      "Cell \u001b[0;32mIn[1], line 2\u001b[0m\n\u001b[1;32m      1\u001b[0m \u001b[38;5;28;01mimport\u001b[39;00m \u001b[38;5;21;01mpandas\u001b[39;00m \u001b[38;5;28;01mas\u001b[39;00m \u001b[38;5;21;01mpd\u001b[39;00m\n\u001b[0;32m----> 2\u001b[0m \u001b[38;5;28;01mfrom\u001b[39;00m \u001b[38;5;21;01mydata_profiling\u001b[39;00m \u001b[38;5;28;01mimport\u001b[39;00m ProfileReport\n\u001b[1;32m      4\u001b[0m \u001b[38;5;66;03m# CSV 파일 불러오기\u001b[39;00m\n\u001b[1;32m      5\u001b[0m df \u001b[38;5;241m=\u001b[39m pd\u001b[38;5;241m.\u001b[39mread_csv(\u001b[38;5;124m\"\u001b[39m\u001b[38;5;124m../calculated/final/amazon_reviews_with_optimal_topics.csv.csv\u001b[39m\u001b[38;5;124m\"\u001b[39m)\n",
      "\u001b[0;31mModuleNotFoundError\u001b[0m: No module named 'ydata_profiling'"
     ]
    }
   ],
   "source": [
    "import pandas as pd\n",
    "from ydata_profiling import ProfileReport\n",
    "\n",
    "# CSV 파일 불러오기\n",
    "df = pd.read_csv(\"../calculated/final/amazon_reviews_with_optimal_topics.csv.csv\")\n",
    "\n",
    "\n",
    "# 프로파일링 리포트 생성 (수정된 파일 기반)\n",
    "profile = ProfileReport(df, title=\"Profiling Report\")\n",
    "profile.to_file(\"amazon_real_fianl_profiling.html\")"
   ]
  },
  {
   "cell_type": "markdown",
   "id": "231c1be8-f7d2-4e5d-b8ae-e6bff466127d",
   "metadata": {},
   "source": [
    "# hotel"
   ]
  },
  {
   "cell_type": "code",
   "execution_count": null,
   "id": "0c5e5d24-6abb-450d-b9d4-ef685162e0dd",
   "metadata": {},
   "outputs": [],
   "source": [
    "import pandas as pd\n",
    "from ydata_profiling import ProfileReport\n",
    "\n",
    "# CSV 파일 불러오기\n",
    "df = pd.read_csv(\"../calculated/final/hotel_reviews_with_optimal_topics.csv\")\n",
    "\n",
    "\n",
    "# 프로파일링 리포트 생성 (수정된 파일 기반)\n",
    "profile = ProfileReport(df, title=\"Profiling Report\")\n",
    "profile.to_file(\"hotel_calculated_profiling_report.html\")"
   ]
  },
  {
   "cell_type": "markdown",
   "id": "7b9f96ea-b5f0-40af-8654-02f4321da506",
   "metadata": {},
   "source": [
    "# audible"
   ]
  },
  {
   "cell_type": "code",
   "execution_count": null,
   "id": "281b28e1-b376-4e70-b153-34c9cea7288b",
   "metadata": {},
   "outputs": [],
   "source": [
    "import pandas as pd\n",
    "from ydata_profiling import ProfileReport\n",
    "\n",
    "# CSV 파일 불러오기\n",
    "df = pd.read_csv(\"../calculated/final/audible_reviews_with_optimal_topics.csv\")\n",
    "\n",
    "\n",
    "# 프로파일링 리포트 생성 (수정된 파일 기반)\n",
    "profile = ProfileReport(df, title=\"Profiling Report\")\n",
    "profile.to_file(\"audible_calculated_EDA.html\")"
   ]
  },
  {
   "cell_type": "markdown",
   "id": "860edb15-51c5-4b49-bef6-63b6107898bd",
   "metadata": {},
   "source": [
    "# coursera"
   ]
  },
  {
   "cell_type": "code",
   "execution_count": 2,
   "id": "20742b68-2b57-454b-a3b3-654b2af134b0",
   "metadata": {},
   "outputs": [
    {
     "ename": "ModuleNotFoundError",
     "evalue": "No module named 'ydata_profiling'",
     "output_type": "error",
     "traceback": [
      "\u001b[0;31m---------------------------------------------------------------------------\u001b[0m",
      "\u001b[0;31mModuleNotFoundError\u001b[0m                       Traceback (most recent call last)",
      "Cell \u001b[0;32mIn[2], line 2\u001b[0m\n\u001b[1;32m      1\u001b[0m \u001b[38;5;28;01mimport\u001b[39;00m \u001b[38;5;21;01mpandas\u001b[39;00m \u001b[38;5;28;01mas\u001b[39;00m \u001b[38;5;21;01mpd\u001b[39;00m\n\u001b[0;32m----> 2\u001b[0m \u001b[38;5;28;01mfrom\u001b[39;00m \u001b[38;5;21;01mydata_profiling\u001b[39;00m \u001b[38;5;28;01mimport\u001b[39;00m ProfileReport\n\u001b[1;32m      4\u001b[0m \u001b[38;5;66;03m# CSV 파일 불러오기\u001b[39;00m\n\u001b[1;32m      5\u001b[0m df \u001b[38;5;241m=\u001b[39m pd\u001b[38;5;241m.\u001b[39mread_csv(\u001b[38;5;124m\"\u001b[39m\u001b[38;5;124m../calculated/final/coursera_reviews_with_topics_and_depth_breadth.csv\u001b[39m\u001b[38;5;124m\"\u001b[39m, encoding\u001b[38;5;241m=\u001b[39m\u001b[38;5;124m'\u001b[39m\u001b[38;5;124mUTF-8\u001b[39m\u001b[38;5;124m'\u001b[39m)\n",
      "\u001b[0;31mModuleNotFoundError\u001b[0m: No module named 'ydata_profiling'"
     ]
    }
   ],
   "source": [
    "import pandas as pd\n",
    "from ydata_profiling import ProfileReport\n",
    "\n",
    "# CSV 파일 불러오기\n",
    "df = pd.read_csv(\"../calculated/final/coursera_reviews_with_topics_and_depth_breadth.csv\", encoding='UTF-8')\n",
    "\n",
    "\n",
    "# 프로파일링 리포트 생성 (수정된 파일 기반)\n",
    "profile = ProfileReport(df, title=\"Profiling Report\")\n",
    "profile.to_file(\"coursera_calculated_profiling_report.html\")"
   ]
  },
  {
   "cell_type": "code",
   "execution_count": 8,
   "id": "42fdb738-9d89-4c59-88b6-68e3a54678c2",
   "metadata": {},
   "outputs": [
    {
     "name": "stdout",
     "output_type": "stream",
     "text": [
      "Collecting sweetviz\n",
      "  Downloading sweetviz-2.3.1-py3-none-any.whl.metadata (24 kB)\n",
      "Requirement already satisfied: pandas!=1.0.0,!=1.0.1,!=1.0.2,>=0.25.3 in /opt/homebrew/Cellar/jupyterlab/4.3.3/libexec/lib/python3.13/site-packages (from sweetviz) (2.2.3)\n",
      "Requirement already satisfied: numpy>=1.16.0 in /opt/homebrew/lib/python3.13/site-packages (from sweetviz) (2.1.3)\n",
      "Requirement already satisfied: matplotlib>=3.1.3 in /opt/homebrew/Cellar/jupyterlab/4.3.3/libexec/lib/python3.13/site-packages (from sweetviz) (3.10.0)\n",
      "Requirement already satisfied: tqdm>=4.43.0 in /opt/homebrew/Cellar/jupyterlab/4.3.3/libexec/lib/python3.13/site-packages (from sweetviz) (4.67.1)\n",
      "Requirement already satisfied: scipy>=1.3.2 in /opt/homebrew/Cellar/jupyterlab/4.3.3/libexec/lib/python3.13/site-packages (from sweetviz) (1.15.1)\n",
      "Requirement already satisfied: jinja2>=2.11.1 in /opt/homebrew/Cellar/jupyterlab/4.3.3/libexec/lib/python3.13/site-packages (from sweetviz) (3.1.4)\n",
      "Collecting importlib-resources>=1.2.0 (from sweetviz)\n",
      "  Downloading importlib_resources-6.5.2-py3-none-any.whl.metadata (3.9 kB)\n",
      "Requirement already satisfied: MarkupSafe>=2.0 in /opt/homebrew/Cellar/jupyterlab/4.3.3/libexec/lib/python3.13/site-packages (from jinja2>=2.11.1->sweetviz) (3.0.2)\n",
      "Requirement already satisfied: contourpy>=1.0.1 in /opt/homebrew/Cellar/jupyterlab/4.3.3/libexec/lib/python3.13/site-packages (from matplotlib>=3.1.3->sweetviz) (1.3.1)\n",
      "Requirement already satisfied: cycler>=0.10 in /opt/homebrew/Cellar/jupyterlab/4.3.3/libexec/lib/python3.13/site-packages (from matplotlib>=3.1.3->sweetviz) (0.12.1)\n",
      "Requirement already satisfied: fonttools>=4.22.0 in /opt/homebrew/Cellar/jupyterlab/4.3.3/libexec/lib/python3.13/site-packages (from matplotlib>=3.1.3->sweetviz) (4.55.4)\n",
      "Requirement already satisfied: kiwisolver>=1.3.1 in /opt/homebrew/Cellar/jupyterlab/4.3.3/libexec/lib/python3.13/site-packages (from matplotlib>=3.1.3->sweetviz) (1.4.8)\n",
      "Requirement already satisfied: packaging>=20.0 in /opt/homebrew/Cellar/jupyterlab/4.3.3/libexec/lib/python3.13/site-packages (from matplotlib>=3.1.3->sweetviz) (24.2)\n",
      "Requirement already satisfied: pillow>=8 in /opt/homebrew/Cellar/jupyterlab/4.3.3/libexec/lib/python3.13/site-packages (from matplotlib>=3.1.3->sweetviz) (11.1.0)\n",
      "Requirement already satisfied: pyparsing>=2.3.1 in /opt/homebrew/Cellar/jupyterlab/4.3.3/libexec/lib/python3.13/site-packages (from matplotlib>=3.1.3->sweetviz) (3.2.1)\n",
      "Requirement already satisfied: python-dateutil>=2.7 in /opt/homebrew/Cellar/jupyterlab/4.3.3/libexec/lib/python3.13/site-packages (from matplotlib>=3.1.3->sweetviz) (2.9.0.post0)\n",
      "Requirement already satisfied: pytz>=2020.1 in /opt/homebrew/Cellar/jupyterlab/4.3.3/libexec/lib/python3.13/site-packages (from pandas!=1.0.0,!=1.0.1,!=1.0.2,>=0.25.3->sweetviz) (2024.2)\n",
      "Requirement already satisfied: tzdata>=2022.7 in /opt/homebrew/Cellar/jupyterlab/4.3.3/libexec/lib/python3.13/site-packages (from pandas!=1.0.0,!=1.0.1,!=1.0.2,>=0.25.3->sweetviz) (2024.2)\n",
      "Requirement already satisfied: six>=1.5 in /opt/homebrew/Cellar/jupyterlab/4.3.3/libexec/lib/python3.13/site-packages (from python-dateutil>=2.7->matplotlib>=3.1.3->sweetviz) (1.17.0)\n",
      "Downloading sweetviz-2.3.1-py3-none-any.whl (15.1 MB)\n",
      "\u001b[2K   \u001b[90m━━━━━━━━━━━━━━━━━━━━━━━━━━━━━━━━━━━━━━━━\u001b[0m \u001b[32m15.1/15.1 MB\u001b[0m \u001b[31m19.8 MB/s\u001b[0m eta \u001b[36m0:00:00\u001b[0ma \u001b[36m0:00:01\u001b[0m\n",
      "Downloading importlib_resources-6.5.2-py3-none-any.whl (37 kB)\n",
      "Installing collected packages: importlib-resources, sweetviz\n",
      "Successfully installed importlib-resources-6.5.2 sweetviz-2.3.1\n",
      "Note: you may need to restart the kernel to use updated packages.\n"
     ]
    }
   ],
   "source": [
    "pip install sweetviz\n"
   ]
  },
  {
   "cell_type": "code",
   "execution_count": 7,
   "id": "09e4c2f0-5491-43b0-a498-b4cfa570735b",
   "metadata": {},
   "outputs": [
    {
     "name": "stdout",
     "output_type": "stream",
     "text": [
      "Python 3.13.1\n"
     ]
    }
   ],
   "source": [
    "!python3 --version\n"
   ]
  },
  {
   "cell_type": "code",
   "execution_count": null,
   "id": "fdd68963-a1d1-4162-974e-eb3d6274903f",
   "metadata": {},
   "outputs": [],
   "source": []
  }
 ],
 "metadata": {
  "kernelspec": {
   "display_name": "Python 3 (ipykernel)",
   "language": "python",
   "name": "python3"
  },
  "language_info": {
   "codemirror_mode": {
    "name": "ipython",
    "version": 3
   },
   "file_extension": ".py",
   "mimetype": "text/x-python",
   "name": "python",
   "nbconvert_exporter": "python",
   "pygments_lexer": "ipython3",
   "version": "3.13.1"
  }
 },
 "nbformat": 4,
 "nbformat_minor": 5
}
