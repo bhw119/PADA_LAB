{
 "cells": [
  {
   "cell_type": "markdown",
   "id": "88484b1a-902c-49c5-b352-f017998d5ebb",
   "metadata": {},
   "source": [
    "# amazon"
   ]
  },
  {
   "cell_type": "code",
   "execution_count": 1,
   "id": "2ff78acb-585c-4f02-892f-9f5368298455",
   "metadata": {},
   "outputs": [
    {
     "name": "stderr",
     "output_type": "stream",
     "text": [
      "/Users/jungsujin/Library/Python/3.9/lib/python/site-packages/tqdm/auto.py:21: TqdmWarning: IProgress not found. Please update jupyter and ipywidgets. See https://ipywidgets.readthedocs.io/en/stable/user_install.html\n",
      "  from .autonotebook import tqdm as notebook_tqdm\n",
      "/Users/jungsujin/Library/Python/3.9/lib/python/site-packages/urllib3/__init__.py:35: NotOpenSSLWarning: urllib3 v2 only supports OpenSSL 1.1.1+, currently the 'ssl' module is compiled with 'LibreSSL 2.8.3'. See: https://github.com/urllib3/urllib3/issues/3020\n",
      "  warnings.warn(\n",
      "Summarize dataset: 100%|██████████| 666/666 [02:37<00:00,  4.22it/s, Completed]                            \n",
      "Generate report structure: 100%|██████████| 1/1 [00:19<00:00, 19.77s/it]\n",
      "Render HTML: 100%|██████████| 1/1 [00:27<00:00, 27.09s/it]\n",
      "Export report to file: 100%|██████████| 1/1 [00:00<00:00, 20.63it/s]\n"
     ]
    }
   ],
   "source": [
    "import pandas as pd\n",
    "from ydata_profiling import ProfileReport\n",
    "\n",
    "# CSV 파일 불러오기\n",
    "df = pd.read_csv(\"../calculated/final/amazon_reviews_with_optimal_topics.csv\")\n",
    "\n",
    "\n",
    "# 프로파일링 리포트 생성 (수정된 파일 기반)\n",
    "profile = ProfileReport(df, title=\"Profiling Report\")\n",
    "profile.to_file(\"amazon_0122_profiling.html\")"
   ]
  },
  {
   "cell_type": "markdown",
   "id": "231c1be8-f7d2-4e5d-b8ae-e6bff466127d",
   "metadata": {},
   "source": [
    "# hotel"
   ]
  },
  {
   "cell_type": "code",
   "execution_count": 2,
   "id": "0c5e5d24-6abb-450d-b9d4-ef685162e0dd",
   "metadata": {},
   "outputs": [
    {
     "name": "stderr",
     "output_type": "stream",
     "text": [
      "Summarize dataset: 100%|██████████| 1422/1422 [05:45<00:00,  4.12it/s, Completed]                                                      \n",
      "Generate report structure: 100%|██████████| 1/1 [00:26<00:00, 26.55s/it]\n",
      "Render HTML: 100%|██████████| 1/1 [01:04<00:00, 64.93s/it]\n",
      "Export report to file: 100%|██████████| 1/1 [00:00<00:00,  6.87it/s]\n"
     ]
    }
   ],
   "source": [
    "import pandas as pd\n",
    "from ydata_profiling import ProfileReport\n",
    "\n",
    "# CSV 파일 불러오기\n",
    "df = pd.read_csv(\"../calculated/final/hotel_reviews_with_optimal_topics.csv\")\n",
    "\n",
    "\n",
    "# 프로파일링 리포트 생성 (수정된 파일 기반)\n",
    "profile = ProfileReport(df, title=\"Profiling Report\")\n",
    "profile.to_file(\"hotel_0122_profiling.html\")"
   ]
  },
  {
   "cell_type": "markdown",
   "id": "7b9f96ea-b5f0-40af-8654-02f4321da506",
   "metadata": {},
   "source": [
    "# audible"
   ]
  },
  {
   "cell_type": "code",
   "execution_count": 3,
   "id": "281b28e1-b376-4e70-b153-34c9cea7288b",
   "metadata": {},
   "outputs": [
    {
     "name": "stderr",
     "output_type": "stream",
     "text": [
      "Summarize dataset: 100%|██████████| 668/668 [02:43<00:00,  4.08it/s, Completed]                            \n",
      "Generate report structure: 100%|██████████| 1/1 [00:32<00:00, 32.04s/it]\n",
      "Render HTML: 100%|██████████| 1/1 [00:26<00:00, 26.73s/it]\n",
      "Export report to file: 100%|██████████| 1/1 [00:00<00:00, 16.25it/s]\n"
     ]
    }
   ],
   "source": [
    "import pandas as pd\n",
    "from ydata_profiling import ProfileReport\n",
    "\n",
    "# CSV 파일 불러오기\n",
    "df = pd.read_csv(\"../calculated/final/audible_reviews_with_optimal_topics.csv\")\n",
    "\n",
    "\n",
    "# 프로파일링 리포트 생성 (수정된 파일 기반)\n",
    "profile = ProfileReport(df, title=\"Profiling Report\")\n",
    "profile.to_file(\"audible_0122_profiliing.html\")"
   ]
  },
  {
   "cell_type": "markdown",
   "id": "860edb15-51c5-4b49-bef6-63b6107898bd",
   "metadata": {},
   "source": [
    "# coursera"
   ]
  },
  {
   "cell_type": "code",
   "execution_count": 5,
   "id": "20742b68-2b57-454b-a3b3-654b2af134b0",
   "metadata": {},
   "outputs": [
    {
     "name": "stderr",
     "output_type": "stream",
     "text": [
      "Summarize dataset: 100%|██████████| 1005/1005 [04:01<00:00,  4.16it/s, Completed]                                                          \n",
      "Generate report structure: 100%|██████████| 1/1 [00:22<00:00, 22.53s/it]\n",
      "Render HTML: 100%|██████████| 1/1 [00:41<00:00, 41.19s/it]\n",
      "Export report to file: 100%|██████████| 1/1 [00:00<00:00, 10.85it/s]\n"
     ]
    }
   ],
   "source": [
    "import pandas as pd\n",
    "from ydata_profiling import ProfileReport\n",
    "\n",
    "# CSV 파일 불러오기\n",
    "df = pd.read_csv(\"../calculated/final/coursera_reviews_with_optimal_topics.csv\", encoding='UTF-8')\n",
    "\n",
    "\n",
    "# 프로파일링 리포트 생성 (수정된 파일 기반)\n",
    "profile = ProfileReport(df, title=\"Profiling Report\")\n",
    "profile.to_file(\"coursera_0122_profiling.html\")"
   ]
  }
 ],
 "metadata": {
  "kernelspec": {
   "display_name": "Python 3",
   "language": "python",
   "name": "python3"
  },
  "language_info": {
   "codemirror_mode": {
    "name": "ipython",
    "version": 3
   },
   "file_extension": ".py",
   "mimetype": "text/x-python",
   "name": "python",
   "nbconvert_exporter": "python",
   "pygments_lexer": "ipython3",
   "version": "3.9.6"
  }
 },
 "nbformat": 4,
 "nbformat_minor": 5
}
