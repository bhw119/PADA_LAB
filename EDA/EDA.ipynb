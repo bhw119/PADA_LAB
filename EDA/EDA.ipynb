{
 "cells": [
  {
   "cell_type": "code",
   "execution_count": 16,
   "id": "c472cf07-96f1-4b73-9eaf-85b93416e13b",
   "metadata": {},
   "outputs": [],
   "source": [
    "import pandas as pd"
   ]
  },
  {
   "cell_type": "markdown",
   "id": "8a48bbdd-fc1e-4ebc-b4e2-359f4cef2b01",
   "metadata": {},
   "source": [
    "# drop_duplicate"
   ]
  },
  {
   "cell_type": "code",
   "execution_count": 19,
   "id": "f0406e3c-d344-420a-94d5-0ef4b98d3947",
   "metadata": {},
   "outputs": [
    {
     "name": "stdout",
     "output_type": "stream",
     "text": [
      "Processing file: ../raw/amazon.csv\n",
      "Original rows in amazon.csv: 103075\n",
      "Rows after removing duplicates in amazon.csv: 103075\n",
      "Cleaned data saved back to ../raw/amazon.csv\n",
      "\n",
      "Processing file: ../raw/coursera.csv\n",
      "Original rows in coursera.csv: 149010\n",
      "Rows after removing duplicates in coursera.csv: 149010\n",
      "Cleaned data saved back to ../raw/coursera.csv\n",
      "\n",
      "Processing file: ../raw/hotel.csv\n",
      "Original rows in hotel.csv: 96013\n",
      "Rows after removing duplicates in hotel.csv: 96013\n",
      "Cleaned data saved back to ../raw/hotel.csv\n",
      "\n",
      "Processing file: ../raw/audible.csv\n",
      "Original rows in audible.csv: 100090\n",
      "Rows after removing duplicates in audible.csv: 100090\n",
      "Cleaned data saved back to ../raw/audible.csv\n",
      "\n"
     ]
    }
   ],
   "source": [
    "import os\n",
    "import pandas as pd\n",
    "\n",
    "# ../raw 디렉토리 경로 설정\n",
    "directory = \"../raw\"\n",
    "\n",
    "# 디렉토리 내 모든 파일에 대해 실행\n",
    "for filename in os.listdir(directory):\n",
    "    # CSV 파일만 처리\n",
    "    if filename.endswith(\".csv\"):\n",
    "        file_path = os.path.join(directory, filename)\n",
    "        print(f\"Processing file: {file_path}\")\n",
    "        \n",
    "        # CSV 파일 읽기\n",
    "        try:\n",
    "            data = pd.read_csv(file_path)\n",
    "            print(f\"Original rows in {filename}: {data.shape[0]}\")\n",
    "            \n",
    "            # 중복 제거\n",
    "            data_cleaned = data.drop_duplicates()\n",
    "            print(f\"Rows after removing duplicates in {filename}: {data_cleaned.shape[0]}\")\n",
    "            \n",
    "            # 중복 제거된 데이터 저장\n",
    "            data_cleaned.to_csv(file_path, index=False)\n",
    "            print(f\"Cleaned data saved back to {file_path}\\n\")\n",
    "        except Exception as e:\n",
    "            print(f\"Error processing file {filename}: {e}\\n\")\n"
   ]
  },
  {
   "cell_type": "code",
   "execution_count": null,
   "id": "5a5f6466-3b7d-47f1-8e18-9a3baeca7c2e",
   "metadata": {},
   "outputs": [],
   "source": []
  }
 ],
 "metadata": {
  "kernelspec": {
   "display_name": "Python 3 (ipykernel)",
   "language": "python",
   "name": "python3"
  },
  "language_info": {
   "codemirror_mode": {
    "name": "ipython",
    "version": 3
   },
   "file_extension": ".py",
   "mimetype": "text/x-python",
   "name": "python",
   "nbconvert_exporter": "python",
   "pygments_lexer": "ipython3",
   "version": "3.13.1"
  }
 },
 "nbformat": 4,
 "nbformat_minor": 5
}
