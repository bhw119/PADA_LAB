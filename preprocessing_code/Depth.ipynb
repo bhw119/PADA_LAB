{
 "cells": [
  {
   "cell_type": "code",
   "execution_count": 1,
   "id": "61042d47-cbb2-470e-8978-dbf446020bf4",
   "metadata": {},
   "outputs": [],
   "source": [
    "import numpy as np\n",
    "import pandas as pd\n",
    "from sklearn.feature_extraction.text import CountVectorizer\n",
    "from sklearn.decomposition import LatentDirichletAllocation as LDA\n",
    "from scipy.stats import entropy\n",
    "\n",
    "df = pd.read_csv(\"/Users/hyunwoo/Desktop/PADA_hotel_data/hotel_final.csv\")"
   ]
  },
  {
   "cell_type": "code",
   "execution_count": 3,
   "id": "0c2677b6-bb29-4378-adf8-9f36042311d0",
   "metadata": {},
   "outputs": [
    {
     "ename": "ModuleNotFoundError",
     "evalue": "No module named 'contextualized_topic_models'",
     "output_type": "error",
     "traceback": [
      "\u001b[0;31m---------------------------------------------------------------------------\u001b[0m",
      "\u001b[0;31mModuleNotFoundError\u001b[0m                       Traceback (most recent call last)",
      "Cell \u001b[0;32mIn[3], line 3\u001b[0m\n\u001b[1;32m      1\u001b[0m \u001b[38;5;28;01mimport\u001b[39;00m \u001b[38;5;21;01mnumpy\u001b[39;00m \u001b[38;5;28;01mas\u001b[39;00m \u001b[38;5;21;01mnp\u001b[39;00m\n\u001b[1;32m      2\u001b[0m \u001b[38;5;28;01mimport\u001b[39;00m \u001b[38;5;21;01mpandas\u001b[39;00m \u001b[38;5;28;01mas\u001b[39;00m \u001b[38;5;21;01mpd\u001b[39;00m\n\u001b[0;32m----> 3\u001b[0m \u001b[38;5;28;01mfrom\u001b[39;00m \u001b[38;5;21;01mcontextualized_topic_models\u001b[39;00m\u001b[38;5;21;01m.\u001b[39;00m\u001b[38;5;21;01mmodels\u001b[39;00m\u001b[38;5;21;01m.\u001b[39;00m\u001b[38;5;21;01mctm\u001b[39;00m \u001b[38;5;28;01mimport\u001b[39;00m CombinedTM\n\u001b[1;32m      4\u001b[0m \u001b[38;5;28;01mfrom\u001b[39;00m \u001b[38;5;21;01mcontextualized_topic_models\u001b[39;00m\u001b[38;5;21;01m.\u001b[39;00m\u001b[38;5;21;01mutils\u001b[39;00m\u001b[38;5;21;01m.\u001b[39;00m\u001b[38;5;21;01mpreprocessing\u001b[39;00m \u001b[38;5;28;01mimport\u001b[39;00m WhiteSpacePreprocessing\n\u001b[1;32m      5\u001b[0m \u001b[38;5;28;01mfrom\u001b[39;00m \u001b[38;5;21;01mscipy\u001b[39;00m\u001b[38;5;21;01m.\u001b[39;00m\u001b[38;5;21;01mstats\u001b[39;00m \u001b[38;5;28;01mimport\u001b[39;00m entropy\n",
      "\u001b[0;31mModuleNotFoundError\u001b[0m: No module named 'contextualized_topic_models'"
     ]
    }
   ],
   "source": [
    "import numpy as np\n",
    "import pandas as pd\n",
    "from contextualized_topic_models.models.ctm import CombinedTM\n",
    "from contextualized_topic_models.utils.preprocessing import WhiteSpacePreprocessing\n",
    "from scipy.stats import entropy\n",
    "\n",
    "# 데이터프레임에 리뷰 텍스트가 포함되어 있다고 가정\n",
    "# df = pd.DataFrame({'Review_Text': [...]})\n",
    "\n",
    "# Step 1: Preprocess the reviews\n",
    "def preprocess_reviews(df, text_column):\n",
    "    preprocessor = WhiteSpacePreprocessing(list(df[text_column]), stopwords_list=\"english\")\n",
    "    preprocessed_documents, unprocessed_corpus, vocab = preprocessor.preprocess()\n",
    "    return preprocessed_documents, unprocessed_corpus, vocab\n",
    "\n",
    "preprocessed_docs, unprocessed_corpus, vocab = preprocess_reviews(df, 'Review_Text')\n",
    "\n",
    "# Step 2: Train the CTM model\n",
    "from contextualized_topic_models.utils.data_preparation import TopicModelDataPreparation\n",
    "\n",
    "tp = TopicModelDataPreparation(\"paraphrase-multilingual-MiniLM-L12-v2\")  # Use a multilingual sentence transformer\n",
    "training_dataset = tp.fit(text_for_contextual=unprocessed_corpus, text_for_bow=preprocessed_docs)\n",
    "\n",
    "ctm_model = CombinedTM(\n",
    "    bow_size=len(tp.vocab),\n",
    "    contextual_size=768,  # Embedding size of the transformer model\n",
    "    n_components=10,  # Number of topics\n",
    "    num_epochs=20,\n",
    ")\n",
    "ctm_model.fit(training_dataset)\n",
    "\n",
    "# Step 3: Compute topic proportions for each sentence\n",
    "def get_sentence_topic_proportions_ctm(text, model, tp):\n",
    "    # Preprocess and transform text to CTM input\n",
    "    preprocessor = WhiteSpacePreprocessing([text], stopwords_list=\"english\")\n",
    "    preprocessed_sentence, unprocessed_sentence, _ = preprocessor.preprocess()\n",
    "    \n",
    "    # Transform text into the model's required format\n",
    "    sentence_data = tp.transform(text_for_contextual=unprocessed_sentence, text_for_bow=preprocessed_sentence)\n",
    "    topic_proportions = model.get_thetas(sentence_data)\n",
    "    return topic_proportions[0]  # Return topic proportions\n",
    "\n",
    "# Step 4: Aggregate sentence-level topic proportions to review-level topic proportions\n",
    "def aggregate_to_review_level_ctm(review_text, model, tp):\n",
    "    sentences = review_text.split('.')  # Basic sentence split\n",
    "    sentence_proportions = []\n",
    "    \n",
    "    for sentence in sentences:\n",
    "        if sentence.strip():  # Skip empty sentences\n",
    "            sentence_prop = get_sentence_topic_proportions_ctm(sentence, model, tp)\n",
    "            sentence_proportions.append(sentence_prop)\n",
    "    \n",
    "    # Calculate the average topic proportions for the entire review\n",
    "    avg_topic_proportions = np.mean(sentence_proportions, axis=0) if sentence_proportions else np.zeros(model.n_components)\n",
    "    return avg_topic_proportions\n",
    "\n",
    "# Step 5: Calculate Shannon entropy for each review\n",
    "def calculate_entropy(topic_proportions):\n",
    "    return entropy(topic_proportions, base=2)  # Shannon entropy\n",
    "\n",
    "# Step 6: Compute ContentDepth for each review\n",
    "def compute_content_depth_ctm(review_text, model, tp):\n",
    "    # Aggregate topic proportions to review-level\n",
    "    avg_topic_proportions = aggregate_to_review_level_ctm(review_text, model, tp)\n",
    "    \n",
    "    # Calculate entropy for the review\n",
    "    entropy_value = calculate_entropy(avg_topic_proportions)\n",
    "    \n",
    "    # Normalize entropy by the number of sentences in the review\n",
    "    num_sentences = len([s for s in review_text.split('.') if s.strip()])\n",
    "    \n",
    "    # Calculate ContentDepth as the negative value of the normalized entropy\n",
    "    content_depth = -entropy_value / num_sentences if num_sentences > 0 else 0\n",
    "    return content_depth\n",
    "\n",
    "# Step 7: Apply ContentDepth calculation to each review in the DataFrame\n",
    "df['ContentDepth'] = df['Review_Text'].apply(lambda x: compute_content_depth_ctm(x, ctm_model, tp))\n",
    "\n",
    "# Optional: Define ContentBreadth if necessary\n",
    "# df['ContentBreadth'] = -df['ContentDepth']  # Example: Placeholder logic\n",
    "\n",
    "# View the results\n",
    "print(df[['Review_Text', 'ContentDepth']].head())\n"
   ]
  },
  {
   "cell_type": "code",
   "execution_count": null,
   "id": "b6bf374b-ecfd-4457-b5b5-cefc6fffaf83",
   "metadata": {},
   "outputs": [],
   "source": [
    "contextualized_topic_models"
   ]
  }
 ],
 "metadata": {
  "kernelspec": {
   "display_name": "Python 3 (ipykernel)",
   "language": "python",
   "name": "python3"
  },
  "language_info": {
   "codemirror_mode": {
    "name": "ipython",
    "version": 3
   },
   "file_extension": ".py",
   "mimetype": "text/x-python",
   "name": "python",
   "nbconvert_exporter": "python",
   "pygments_lexer": "ipython3",
   "version": "3.12.7"
  }
 },
 "nbformat": 4,
 "nbformat_minor": 5
}
