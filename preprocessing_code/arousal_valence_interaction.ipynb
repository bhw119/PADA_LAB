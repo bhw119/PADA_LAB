{
 "cells": [
  {
   "cell_type": "code",
   "execution_count": 7,
   "id": "ff3055e6-59e7-4014-81a7-4f83ece23e51",
   "metadata": {},
   "outputs": [],
   "source": [
    "import pandas as pd\n",
    "amazon = pd.read_csv(r\"C:\\Users\\Administrator\\Desktop\\PADA_LAB\\final_data\\amazon_sentiment.csv\")\n",
    "audible = pd.read_csv(r\"C:\\Users\\Administrator\\Desktop\\PADA_LAB\\final_data\\audible_sentiment.csv\")\n",
    "coursera = pd.read_csv(r\"C:\\Users\\Administrator\\Desktop\\PADA_LAB\\final_data\\coursera_sentiment.csv\")\n",
    "hotel = pd.read_csv(r\"C:\\Users\\Administrator\\Desktop\\PADA_LAB\\final_data\\hotel_sentiment.csv\")"
   ]
  },
  {
   "cell_type": "code",
   "execution_count": null,
   "id": "8850089f-9383-4a2f-b7fd-f8f697d1c5c8",
   "metadata": {},
   "outputs": [],
   "source": [
    "def valence_change(df, df_name):\n",
    "    \n",
    "# Sentiment_Score_Discrete 열이 있다면 삭제\n",
    "    if 'Sentiment_Score_Discrete' in df.columns:\n",
    "        df = df.drop(columns='Sentiment_Score_Discrete')    \n",
    "    # df['Valence'] = (df['Valence'] - 3) / 2 계산을 위한 -1에서 1로 변환환\n",
    "    df['Interaction'] = df['Valence'] * df['Arousal']\n",
    "    df.to_csv(f\"C:/Users/Administrator/Desktop/PADA_LAB/final_data/{df_name}_sentiment.csv\", index=False)\n",
    "# 파일 저장 및 확인 메시지 출력\n",
    "    print(f\"{df_name} 처리 완료 및 저장됨: {df_name}_processed.csv\")\n",
    "    \n"
   ]
  },
  {
   "cell_type": "code",
   "execution_count": null,
   "id": "2f8fe96b",
   "metadata": {},
   "outputs": [
    {
     "name": "stdout",
     "output_type": "stream",
     "text": [
      "coursera 처리 완료 및 저장됨: coursera_processed.csv\n"
     ]
    }
   ],
   "source": [
    "valence_change(amazon, \"amazon\")\n",
    "valence_change(audible, \"audible\")\n",
    "valence_change(coursera, \"coursera\")\n",
    "valence_change(hotel, \"hotel\")\n",
    "\n",
    "\n",
    "\n"
   ]
  }
 ],
 "metadata": {
  "kernelspec": {
   "display_name": "base",
   "language": "python",
   "name": "python3"
  },
  "language_info": {
   "codemirror_mode": {
    "name": "ipython",
    "version": 3
   },
   "file_extension": ".py",
   "mimetype": "text/x-python",
   "name": "python",
   "nbconvert_exporter": "python",
   "pygments_lexer": "ipython3",
   "version": "3.12.7"
  }
 },
 "nbformat": 4,
 "nbformat_minor": 5
}
