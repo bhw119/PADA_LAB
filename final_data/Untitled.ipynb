{
 "cells": [
  {
   "cell_type": "code",
   "execution_count": 1,
   "id": "ccf4e870-3fb5-4daf-ae77-fb6109e28687",
   "metadata": {},
   "outputs": [],
   "source": [
    "import pandas as pd"
   ]
  },
  {
   "cell_type": "code",
   "execution_count": 2,
   "id": "a396c7c1-34ad-496d-bbf4-58b10471ee6a",
   "metadata": {},
   "outputs": [
    {
     "data": {
      "text/plain": [
       "Index(['Hotel_Name', 'Review_Text', 'Rating', 'Average_Rating',\n",
       "       'Num_of_Ratings', 'Helpfulness', 'is_photo', 'review_title',\n",
       "       'hotel_grade', 'employee_friendliness_score', 'facility_score',\n",
       "       'cleanliness_score', 'comfort_score', 'value_for_money_score',\n",
       "       'location_score', 'Crawled_date', 'title_length', 'text_length',\n",
       "       'time_lapsed', 'Deviation of star ratings', 'FOG Index',\n",
       "       'Flesch Reading Ease', 'depth', 'breadth', 'valence',\n",
       "       'sentiment_score_discrete', 'arousal'],\n",
       "      dtype='object')"
      ]
     },
     "execution_count": 2,
     "metadata": {},
     "output_type": "execute_result"
    }
   ],
   "source": [
    "df = pd.read_csv(\"hotel_sentiment.csv\")\n",
    "df.columns"
   ]
  },
  {
   "cell_type": "code",
   "execution_count": null,
   "id": "ea364704-7ec4-452b-adc6-a94ef0c532c4",
   "metadata": {},
   "outputs": [],
   "source": []
  }
 ],
 "metadata": {
  "kernelspec": {
   "display_name": "Python 3 (ipykernel)",
   "language": "python",
   "name": "python3"
  },
  "language_info": {
   "codemirror_mode": {
    "name": "ipython",
    "version": 3
   },
   "file_extension": ".py",
   "mimetype": "text/x-python",
   "name": "python",
   "nbconvert_exporter": "python",
   "pygments_lexer": "ipython3",
   "version": "3.13.1"
  }
 },
 "nbformat": 4,
 "nbformat_minor": 5
}
