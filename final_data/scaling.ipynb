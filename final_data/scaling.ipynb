{
 "cells": [
  {
   "cell_type": "code",
   "execution_count": 5,
   "id": "8b0fd90a",
   "metadata": {},
   "outputs": [
    {
     "name": "stdout",
     "output_type": "stream",
     "text": [
      "Collecting feature_engine\n",
      "  Downloading feature_engine-1.8.3-py2.py3-none-any.whl.metadata (9.9 kB)\n",
      "Requirement already satisfied: numpy>=1.18.2 in /Users/phr/opt/anaconda3/lib/python3.9/site-packages (from feature_engine) (1.22.4)\n",
      "Requirement already satisfied: pandas>=2.2.0 in /Users/phr/opt/anaconda3/lib/python3.9/site-packages (from feature_engine) (2.2.3)\n",
      "Collecting scikit-learn>=1.4.0 (from feature_engine)\n",
      "  Downloading scikit_learn-1.6.1-cp39-cp39-macosx_12_0_arm64.whl.metadata (31 kB)\n",
      "Requirement already satisfied: scipy>=1.4.1 in /Users/phr/opt/anaconda3/lib/python3.9/site-packages (from feature_engine) (1.7.3)\n",
      "Requirement already satisfied: statsmodels>=0.11.1 in /Users/phr/opt/anaconda3/lib/python3.9/site-packages (from feature_engine) (0.13.2)\n",
      "Requirement already satisfied: python-dateutil>=2.8.2 in /Users/phr/opt/anaconda3/lib/python3.9/site-packages (from pandas>=2.2.0->feature_engine) (2.8.2)\n",
      "Requirement already satisfied: pytz>=2020.1 in /Users/phr/opt/anaconda3/lib/python3.9/site-packages (from pandas>=2.2.0->feature_engine) (2021.3)\n",
      "Requirement already satisfied: tzdata>=2022.7 in /Users/phr/opt/anaconda3/lib/python3.9/site-packages (from pandas>=2.2.0->feature_engine) (2025.1)\n",
      "Requirement already satisfied: joblib>=1.2.0 in /Users/phr/opt/anaconda3/lib/python3.9/site-packages (from scikit-learn>=1.4.0->feature_engine) (1.4.2)\n",
      "Collecting threadpoolctl>=3.1.0 (from scikit-learn>=1.4.0->feature_engine)\n",
      "  Using cached threadpoolctl-3.5.0-py3-none-any.whl.metadata (13 kB)\n",
      "Requirement already satisfied: patsy>=0.5.2 in /Users/phr/opt/anaconda3/lib/python3.9/site-packages (from statsmodels>=0.11.1->feature_engine) (0.5.2)\n",
      "Requirement already satisfied: packaging>=21.3 in /Users/phr/opt/anaconda3/lib/python3.9/site-packages (from statsmodels>=0.11.1->feature_engine) (24.1)\n",
      "Requirement already satisfied: six in /Users/phr/opt/anaconda3/lib/python3.9/site-packages (from patsy>=0.5.2->statsmodels>=0.11.1->feature_engine) (1.16.0)\n",
      "Downloading feature_engine-1.8.3-py2.py3-none-any.whl (378 kB)\n",
      "Downloading scikit_learn-1.6.1-cp39-cp39-macosx_12_0_arm64.whl (11.1 MB)\n",
      "\u001b[2K   \u001b[90m━━━━━━━━━━━━━━━━━━━━━━━━━━━━━━━━━━━━━━━━\u001b[0m \u001b[32m11.1/11.1 MB\u001b[0m \u001b[31m16.8 MB/s\u001b[0m eta \u001b[36m0:00:00\u001b[0ma \u001b[36m0:00:01\u001b[0m\n",
      "\u001b[?25hUsing cached threadpoolctl-3.5.0-py3-none-any.whl (18 kB)\n",
      "Installing collected packages: threadpoolctl, scikit-learn, feature_engine\n",
      "  Attempting uninstall: threadpoolctl\n",
      "    Found existing installation: threadpoolctl 2.2.0\n",
      "    Uninstalling threadpoolctl-2.2.0:\n",
      "      Successfully uninstalled threadpoolctl-2.2.0\n",
      "  Attempting uninstall: scikit-learn\n",
      "    Found existing installation: scikit-learn 1.0.2\n",
      "    Uninstalling scikit-learn-1.0.2:\n",
      "      Successfully uninstalled scikit-learn-1.0.2\n",
      "Successfully installed feature_engine-1.8.3 scikit-learn-1.6.1 threadpoolctl-3.5.0\n",
      "\n",
      "\u001b[1m[\u001b[0m\u001b[34;49mnotice\u001b[0m\u001b[1;39;49m]\u001b[0m\u001b[39;49m A new release of pip is available: \u001b[0m\u001b[31;49m25.0\u001b[0m\u001b[39;49m -> \u001b[0m\u001b[32;49m25.0.1\u001b[0m\n",
      "\u001b[1m[\u001b[0m\u001b[34;49mnotice\u001b[0m\u001b[1;39;49m]\u001b[0m\u001b[39;49m To update, run: \u001b[0m\u001b[32;49mpip install --upgrade pip\u001b[0m\n"
     ]
    }
   ],
   "source": [
    "! pip install feature_engine"
   ]
  },
  {
   "cell_type": "code",
   "execution_count": 12,
   "id": "8e2d62bc",
   "metadata": {},
   "outputs": [],
   "source": [
    "from sklearn.preprocessing import MinMaxScaler, StandardScaler, RobustScaler\n",
    "import pandas as pd"
   ]
  },
  {
   "cell_type": "code",
   "execution_count": 13,
   "id": "6c82d64a",
   "metadata": {},
   "outputs": [],
   "source": [
    "df = pd.read_csv('coursera_sentiment.csv')"
   ]
  },
  {
   "cell_type": "code",
   "execution_count": 17,
   "id": "311f8cf0",
   "metadata": {},
   "outputs": [
    {
     "data": {
      "text/plain": [
       "Index(['course_name', 'Rating', 'avg_rating', 'num_of_ratings', 'helpfulness',\n",
       "       'Review_Text', 'num_of_reviews', 'num_of_enrolled',\n",
       "       'num_of_top_instructor_courses', 'num_of_top_instructor_leaners',\n",
       "       'text_length', 'time_lapsed', 'Deviation of star ratings', 'FOG Index',\n",
       "       'Flesch Reading Ease', 'depth', 'breadth', 'valence',\n",
       "       'sentiment_score_discrete', 'arousal'],\n",
       "      dtype='object')"
      ]
     },
     "execution_count": 17,
     "metadata": {},
     "output_type": "execute_result"
    }
   ],
   "source": [
    "df.columns"
   ]
  },
  {
   "cell_type": "code",
   "execution_count": 19,
   "id": "214cd941",
   "metadata": {},
   "outputs": [
    {
     "name": "stdout",
     "output_type": "stream",
     "text": [
      "Min-Max Scaling 적용 결과:\n",
      "                                 course_name  Rating  avg_rating  \\\n",
      "0               foundations-of-cybersecurity       5         4.8   \n",
      "1               foundations-of-cybersecurity       5         4.8   \n",
      "2               foundations-of-cybersecurity       5         4.8   \n",
      "3               foundations-of-cybersecurity       5         4.8   \n",
      "4               foundations-of-cybersecurity       5         4.8   \n",
      "...                                      ...     ...         ...   \n",
      "121381  introduction-to-applied-cryptography       5         4.6   \n",
      "121382  introduction-to-applied-cryptography       5         4.6   \n",
      "121383  introduction-to-applied-cryptography       5         4.6   \n",
      "121384  introduction-to-applied-cryptography       5         4.6   \n",
      "121385  introduction-to-applied-cryptography       5         4.6   \n",
      "\n",
      "        num_of_ratings  helpfulness  \\\n",
      "0             0.121407           54   \n",
      "1             0.121407           44   \n",
      "2             0.121407           41   \n",
      "3             0.121407           32   \n",
      "4             0.121407           24   \n",
      "...                ...          ...   \n",
      "121381        0.000231            0   \n",
      "121382        0.000231            0   \n",
      "121383        0.000231            0   \n",
      "121384        0.000231            0   \n",
      "121385        0.000231            0   \n",
      "\n",
      "                                              Review_Text  num_of_reviews  \\\n",
      "0       The course is well paced and they get you comf...        0.550955   \n",
      "1       Information was well organized, easy to learn,...        0.550955   \n",
      "2       For a foundation course, this one was easy to ...        0.550955   \n",
      "3       I think this is a great start for anyone who i...        0.550955   \n",
      "4       Surprised by the quality of this course. repea...        0.550955   \n",
      "...                                                   ...             ...   \n",
      "121381  This course by Professor Keith Martin is a fas...        0.000800   \n",
      "121382  Thank you so much during this 4 weeks, i gaine...        0.000800   \n",
      "121383                very useful and informative course.        0.000800   \n",
      "121384                  Challenging and very enratainent.        0.000800   \n",
      "121385                               very good education.        0.000800   \n",
      "\n",
      "        num_of_enrolled  num_of_top_instructor_courses  \\\n",
      "0              0.307940                       0.193066   \n",
      "1              0.307940                       0.193066   \n",
      "2              0.307940                       0.193066   \n",
      "3              0.307940                       0.193066   \n",
      "4              0.307940                       0.193066   \n",
      "...                 ...                            ...   \n",
      "121381         0.002555                       0.000000   \n",
      "121382         0.002555                       0.000000   \n",
      "121383         0.002555                       0.000000   \n",
      "121384         0.002555                       0.000000   \n",
      "121385         0.002555                       0.000000   \n",
      "\n",
      "        num_of_top_instructor_leaners  text_length  time_lapsed  \\\n",
      "0                            1.000000     0.039039     0.144245   \n",
      "1                            1.000000     0.035035     0.164557   \n",
      "2                            1.000000     0.037037     0.166323   \n",
      "3                            1.000000     0.037037     0.095967   \n",
      "4                            1.000000     0.029029     0.165146   \n",
      "...                               ...          ...          ...   \n",
      "121381                       0.007131     0.067067     0.133059   \n",
      "121382                       0.007131     0.026026     0.166029   \n",
      "121383                       0.007131     0.004004     0.166029   \n",
      "121384                       0.007131     0.003003     0.133647   \n",
      "121385                       0.007131     0.002002     0.114513   \n",
      "\n",
      "        Deviation of star ratings  FOG Index  Flesch Reading Ease     depth  \\\n",
      "0                             0.2   0.091362             0.963090  0.615755   \n",
      "1                             0.2   0.067359             0.963078  0.522035   \n",
      "2                             0.2   0.080648             0.958269  0.385761   \n",
      "3                             0.2   0.089369             0.958269  0.412913   \n",
      "4                             0.2   0.116279             0.954373  0.675941   \n",
      "...                           ...        ...                  ...       ...   \n",
      "121381                        0.4   0.110216             0.951194  0.749141   \n",
      "121382                        0.4   0.069435             0.962523  0.646984   \n",
      "121383                        0.4   0.083056             0.952321  0.351222   \n",
      "121384                        0.4   0.096346             0.952630  0.746378   \n",
      "121385                        0.4   0.120681             0.947810  0.017724   \n",
      "\n",
      "         breadth  valence  sentiment_score_discrete   arousal  \n",
      "0       0.699835    4.166                         4  0.009651  \n",
      "1       0.719817    3.880                         4 -0.059593  \n",
      "2       0.481265    4.395                         5  0.254931  \n",
      "3       0.503966    4.603                         5  0.111229  \n",
      "4       0.561266    4.575                         5  0.543238  \n",
      "...          ...      ...                       ...       ...  \n",
      "121381  0.444210    3.971                         4  0.037340  \n",
      "121382  0.742023    4.825                         5 -0.092934  \n",
      "121383  1.115342    4.615                         5  0.099697  \n",
      "121384  0.314778    4.490                         5 -0.346199  \n",
      "121385  1.058944    4.514                         5  0.145036  \n",
      "\n",
      "[121386 rows x 20 columns]\n"
     ]
    }
   ],
   "source": [
    "# 스케일러 초기화\n",
    "min_max_scaler = MinMaxScaler()\n",
    "\n",
    "df[['num_of_ratings', 'num_of_reviews', 'num_of_enrolled', 'num_of_top_instructor_courses', 'num_of_top_instructor_leaners', 'text_length', 'time_lapsed', 'FOG Index', 'Flesch Reading Ease']] = min_max_scaler.fit_transform(df[['num_of_ratings', 'num_of_reviews', 'num_of_enrolled', 'num_of_top_instructor_courses', 'num_of_top_instructor_leaners', 'text_length', 'time_lapsed', 'FOG Index', 'Flesch Reading Ease']])\n",
    "print(\"Min-Max Scaling 적용 결과:\")\n",
    "print(df)"
   ]
  },
  {
   "cell_type": "code",
   "execution_count": 15,
   "id": "87920118",
   "metadata": {},
   "outputs": [],
   "source": [
    "# 스케일러 초기화\n",
    "robust_scaler = RobustScaler()\n",
    "\n",
    "# 'B', 'C', 'D' 컬럼에 Robust Scaling 적용\n",
    "# df[['B', 'C', 'D']] = robust_scaler.fit_transform(df[['B', 'C', 'D']])\n",
    "# print(\"Robust Scaling 적용 결과:\")\n",
    "# print(df)"
   ]
  },
  {
   "cell_type": "code",
   "execution_count": 16,
   "id": "a10188bf",
   "metadata": {},
   "outputs": [],
   "source": [
    "# 스케일러 초기화\n",
    "z_scaler = StandardScaler()\n",
    "\n",
    "# # 'B', 'C', 'D' 컬럼에 Z-Score Scaling 적용\n",
    "# df[['B', 'C', 'D']] = z_scaler.fit_transform(df[['B', 'C', 'D']])\n",
    "# print(\"Z-Score Scaling 적용 결과:\")\n",
    "# print(df)"
   ]
  },
  {
   "cell_type": "code",
   "execution_count": 20,
   "id": "69ca9188",
   "metadata": {},
   "outputs": [],
   "source": [
    "df.to_csv('scaled_coursera.csv', index='False')"
   ]
  },
  {
   "cell_type": "code",
   "execution_count": null,
   "id": "aa1051fc",
   "metadata": {},
   "outputs": [],
   "source": []
  }
 ],
 "metadata": {
  "kernelspec": {
   "display_name": "Python 3 (ipykernel)",
   "language": "python",
   "name": "python3"
  },
  "language_info": {
   "codemirror_mode": {
    "name": "ipython",
    "version": 3
   },
   "file_extension": ".py",
   "mimetype": "text/x-python",
   "name": "python",
   "nbconvert_exporter": "python",
   "pygments_lexer": "ipython3",
   "version": "3.9.12"
  }
 },
 "nbformat": 4,
 "nbformat_minor": 5
}
