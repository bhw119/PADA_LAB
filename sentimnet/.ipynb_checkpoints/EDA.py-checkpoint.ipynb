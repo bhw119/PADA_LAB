{
 "cells": [
  {
   "cell_type": "code",
   "execution_count": 1,
   "id": "587a0397",
   "metadata": {},
   "outputs": [],
   "source": [
    "import pandas as pd\n",
    "import matplotlib.pyplot as plt"
   ]
  },
  {
   "cell_type": "markdown",
   "id": "a3dc4134",
   "metadata": {},
   "source": [
    "# Lexicon EDA"
   ]
  },
  {
   "cell_type": "code",
   "execution_count": 4,
   "id": "b78ef6d2",
   "metadata": {},
   "outputs": [],
   "source": [
    "def load_lexicon(file_path):\n",
    "    vad_dict = {}\n",
    "    \"\"\"VAD Lexicon 파일을 읽어 딕셔너리로 저장\"\"\"\n",
    "    with open(file_path, 'r', encoding='utf-8') as file:\n",
    "        for line in file:\n",
    "            parts = line.strip().split()\n",
    "            if len(parts) == 4:  # 단어와 3개의 점수가 있는지 확인\n",
    "                word = parts[0]\n",
    "                scores = [float(score) for score in parts[1:]]\n",
    "                vad_dict[word] = {\n",
    "                    'valence': scores[0],\n",
    "                    'arousal': scores[1],\n",
    "                    'dominance': scores[2]\n",
    "                }\n",
    "    return vad_dict"
   ]
  },
  {
   "cell_type": "code",
   "execution_count": null,
   "id": "1ace2ac5",
   "metadata": {},
   "outputs": [],
   "source": [
    "vad_dict = load_lexicon()"
   ]
  }
 ],
 "metadata": {
  "kernelspec": {
   "display_name": "Python 3 (ipykernel)",
   "language": "python",
   "name": "python3"
  },
  "language_info": {
   "codemirror_mode": {
    "name": "ipython",
    "version": 3
   },
   "file_extension": ".py",
   "mimetype": "text/x-python",
   "name": "python",
   "nbconvert_exporter": "python",
   "pygments_lexer": "ipython3",
   "version": "3.9.12"
  }
 },
 "nbformat": 4,
 "nbformat_minor": 5
}
