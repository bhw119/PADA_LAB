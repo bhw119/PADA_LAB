{
 "cells": [
  {
   "cell_type": "code",
   "execution_count": null,
   "metadata": {},
   "outputs": [],
   "source": [
    "import pandas as pd\n",
    "amazon = pd.read_csv(\"/Users/jungsujin/PADA_LAB/구조방정식/Count_SEM/scaled_data/amazon_scaled.csv\")\n",
    "audible = pd.read_csv(\"/Users/jungsujin/PADA_LAB/구조방정식/Count_SEM/scaled_data/audible_scaled.csv\")\n",
    "coursera = pd.read_csv(\"/Users/jungsujin/PADA_LAB/구조방정식/Count_SEM/scaled_data/coursera_scaled.csv\")\n",
    "hotel = pd.read_csv(\"/Users/jungsujin/PADA_ LAB/구조방정식/Count_SEM/scaled_data/hotel_scaled.csv\")"
   ]
  },
  {
   "cell_type": "markdown",
   "metadata": {},
   "source": []
  },
  {
   "cell_type": "code",
   "execution_count": 14,
   "metadata": {},
   "outputs": [
    {
     "ename": "ModuleNotFoundError",
     "evalue": "No module named 'semopy'",
     "output_type": "error",
     "traceback": [
      "\u001b[0;31m---------------------------------------------------------------------------\u001b[0m",
      "\u001b[0;31mModuleNotFoundError\u001b[0m                       Traceback (most recent call last)",
      "Cell \u001b[0;32mIn[14], line 2\u001b[0m\n\u001b[1;32m      1\u001b[0m \u001b[38;5;28;01mimport\u001b[39;00m\u001b[38;5;250m \u001b[39m\u001b[38;5;21;01mnumpy\u001b[39;00m\u001b[38;5;250m \u001b[39m\u001b[38;5;28;01mas\u001b[39;00m\u001b[38;5;250m \u001b[39m\u001b[38;5;21;01mnp\u001b[39;00m\n\u001b[0;32m----> 2\u001b[0m \u001b[38;5;28;01mfrom\u001b[39;00m\u001b[38;5;250m \u001b[39m\u001b[38;5;21;01msemopy\u001b[39;00m\u001b[38;5;250m \u001b[39m\u001b[38;5;28;01mimport\u001b[39;00m Model\n\u001b[1;32m      3\u001b[0m \u001b[38;5;28;01mimport\u001b[39;00m\u001b[38;5;250m \u001b[39m\u001b[38;5;21;01mstatsmodels\u001b[39;00m\u001b[38;5;21;01m.\u001b[39;00m\u001b[38;5;21;01mapi\u001b[39;00m\u001b[38;5;250m \u001b[39m\u001b[38;5;28;01mas\u001b[39;00m\u001b[38;5;250m \u001b[39m\u001b[38;5;21;01msm\u001b[39;00m\n\u001b[1;32m      4\u001b[0m \u001b[38;5;28;01mimport\u001b[39;00m\u001b[38;5;250m \u001b[39m\u001b[38;5;21;01mstatsmodels\u001b[39;00m\u001b[38;5;21;01m.\u001b[39;00m\u001b[38;5;21;01mformula\u001b[39;00m\u001b[38;5;21;01m.\u001b[39;00m\u001b[38;5;21;01mapi\u001b[39;00m\u001b[38;5;250m \u001b[39m\u001b[38;5;28;01mas\u001b[39;00m\u001b[38;5;250m \u001b[39m\u001b[38;5;21;01msmf\u001b[39;00m\n",
      "\u001b[0;31mModuleNotFoundError\u001b[0m: No module named 'semopy'"
     ]
    }
   ],
   "source": [
    "import numpy as np\n",
    "from semopy import Model\n",
    "import statsmodels.api as sm\n",
    "import statsmodels.formula.api as smf"
   ]
  },
  {
   "cell_type": "code",
   "execution_count": 7,
   "metadata": {},
   "outputs": [
    {
     "ename": "NameError",
     "evalue": "name 'Model' is not defined",
     "output_type": "error",
     "traceback": [
      "\u001b[0;31m---------------------------------------------------------------------------\u001b[0m",
      "\u001b[0;31mNameError\u001b[0m                                 Traceback (most recent call last)",
      "Cell \u001b[0;32mIn[7], line 14\u001b[0m\n\u001b[1;32m      8\u001b[0m model_1_cfa \u001b[38;5;241m=\u001b[39m \u001b[38;5;124m\"\"\"\u001b[39m\n\u001b[1;32m      9\u001b[0m \u001b[38;5;124mHeuristic =~ Title_Length + Text_Length + Time_Lapsed + Deviation_Of_Star_Ratings + Rating\u001b[39m\n\u001b[1;32m     10\u001b[0m \u001b[38;5;124mSystematic =~ Flesch_Reading_Ease + Depth + Breadth + Valence + Arousal + Interaction\u001b[39m\n\u001b[1;32m     11\u001b[0m \u001b[38;5;124m\"\"\"\u001b[39m\n\u001b[1;32m     13\u001b[0m \u001b[38;5;66;03m# semopy로 모델 생성 & 적합\u001b[39;00m\n\u001b[0;32m---> 14\u001b[0m mod \u001b[38;5;241m=\u001b[39m \u001b[43mModel\u001b[49m(model_1_cfa)\n\u001b[1;32m     15\u001b[0m res \u001b[38;5;241m=\u001b[39m mod\u001b[38;5;241m.\u001b[39mfit(audible)\n\u001b[1;32m     17\u001b[0m \u001b[38;5;66;03m# (a) 적합도 지표 확인\u001b[39;00m\n\u001b[1;32m     18\u001b[0m \u001b[38;5;66;03m# semopy의 calc_stats()로 CFI, RMSEA, AIC, etc.를 볼 수 있다\u001b[39;00m\n",
      "\u001b[0;31mNameError\u001b[0m: name 'Model' is not defined"
     ]
    }
   ],
   "source": [
    "# -------------------------------------------------\n",
    "# (1단계) 측정모델(CFA)을 semopy로 적합\n",
    "# -------------------------------------------------\n",
    "# semopy 모델 문법: (잠재변수명) =~ (관측변수1) + (관측변수2) + ...\n",
    "#                  (종속변수) ~ (독립변수1) + (독립변수2) + ...  => 구조방정식\n",
    "# 여기서는 일단 HELPfulness를 제외하고 \"순수 측정모델\"만 정의 (CFA)\n",
    "\n",
    "model_1_cfa = \"\"\"\n",
    "Heuristic =~ Title_Length + Text_Length + Time_Lapsed + Deviation_Of_Star_Ratings + Rating\n",
    "Systematic =~ Flesch_Reading_Ease + Depth + Breadth + Valence + Arousal + Interaction\n",
    "\"\"\"\n",
    "\n",
    "# semopy로 모델 생성 & 적합\n",
    "mod = Model(model_1_cfa)\n",
    "res = mod.fit(audible)\n",
    "\n",
    "# (a) 적합도 지표 확인\n",
    "# semopy의 calc_stats()로 CFI, RMSEA, AIC, etc.를 볼 수 있다\n",
    "stats = mod.calc_stats()\n",
    "print(stats)\n",
    "\n",
    "# (b) 표준화 로딩/계수 등 결과 확인\n",
    "# 구조방정식 전체 파라미터 요약\n",
    "estimates = mod.inspect()\n",
    "print(estimates)\n",
    "\n",
    "# (c) AVE, CR 계산\n",
    "# semopy는 내장 함수로 AVE/CR을 계산하는 메서드(semopy.optimize.utils.get_discriminant_validity) 등이 있으나\n",
    "# 아래처럼 로딩값과 에러분산을 별도 추출해서 수동 계산도 가능.\n",
    "# 예시로, 잠재변수별로 factor loadings 를 가져와 계산하는 과정:\n",
    "\n",
    "loadings = estimates.loc[estimates['param'].str.contains('~~') == False]  # \"~=\"는 factor loadings\n",
    "# 혹은 \"Heuristic=~\" 식으로 필터링해서 로딩값을 구하고, 에러분산 항 등도 분리한 다음 수식대로 계산\n",
    "\n"
   ]
  },
  {
   "cell_type": "code",
   "execution_count": null,
   "metadata": {},
   "outputs": [],
   "source": [
    "# -------------------------------------------------\n",
    "# (2단계) 음이항 회귀(Negative Binomial)\n",
    "# -------------------------------------------------\n",
    "# (1단계)에서 얻은 잠재변수 점수(factor scores)를 추출하여\n",
    "# Helpfulness (count형) 종속변수와 함께 음이항회귀를 시행\n",
    "factor_scores = mod.predict_factors(audible)  # Heuristic, Systematic 점수가 담긴 DataFrame 반환\n",
    "\n",
    "df_for_reg = pd.concat([audible['Helpfulness'], factor_scores], axis=1)\n",
    "\n",
    "# statsmodels에서 음이항(GLM) 지정: family=sm.families.NegativeBinomial()\n",
    "formula = \"Helpfulness ~ Heuristic + Systematic\"\n",
    "nb_model = smf.glm(formula=formula, data=df_for_reg, \n",
    "                   family=sm.families.NegativeBinomial()).fit()\n",
    "\n",
    "print(nb_model.summary())\n",
    "\n",
    "# (a) AIC 확인\n",
    "print(\"AIC:\", nb_model.aic)\n",
    "\n",
    "# (b) McFadden’s R^2 계산\n",
    "#  - null 모델(상수항만 있는 모델)과 비교\n",
    "nb_model_null = smf.glm(\"Helpfulness ~ 1\", data=df_for_reg,\n",
    "                        family=sm.families.NegativeBinomial()).fit()\n",
    "LL_full = nb_model.llf    # full model log-likelihood\n",
    "LL_null = nb_model_null.llf   # null model log-likelihood\n",
    "\n",
    "mcfadden_r2 = 1 - (LL_full / LL_null)\n",
    "print(\"McFadden’s R^2:\", mcfadden_r2)\n"
   ]
  }
 ],
 "metadata": {
  "kernelspec": {
   "display_name": ".venv",
   "language": "python",
   "name": "python3"
  },
  "language_info": {
   "codemirror_mode": {
    "name": "ipython",
    "version": 3
   },
   "file_extension": ".py",
   "mimetype": "text/x-python",
   "name": "python",
   "nbconvert_exporter": "python",
   "pygments_lexer": "ipython3",
   "version": "3.12.6"
  }
 },
 "nbformat": 4,
 "nbformat_minor": 2
}
