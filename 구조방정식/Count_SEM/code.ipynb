{
 "cells": [
  {
   "cell_type": "code",
   "execution_count": 5,
   "metadata": {},
   "outputs": [],
   "source": [
    "import pandas as pd\n",
    "amazon = pd.read_csv(r\"C:\\Users\\Administrator\\Desktop\\PADA_LAB\\final_data\\amazon_sentiment.csv\", encoding='latin1')\n",
    "audible = pd.read_csv(r\"C:\\Users\\Administrator\\Desktop\\PADA_LAB\\final_data\\audible_sentiment.csv\")\n",
    "coursera = pd.read_csv(r\"C:\\Users\\Administrator\\Desktop\\PADA_LAB\\final_data\\coursera_sentiment.csv\")\n",
    "hotel = pd.read_csv(r\"C:\\Users\\Administrator\\Desktop\\PADA_LAB\\final_data\\hotel_sentiment.csv\")"
   ]
  },
  {
   "cell_type": "code",
   "execution_count": 6,
   "metadata": {},
   "outputs": [
    {
     "data": {
      "application/vnd.jupyter.widget-view+json": {
       "model_id": "bfd233b4ec57429080f13f7ea117288c",
       "version_major": 2,
       "version_minor": 0
      },
      "text/plain": [
       "Summarize dataset:   0%|          | 0/5 [00:00<?, ?it/s]"
      ]
     },
     "metadata": {},
     "output_type": "display_data"
    },
    {
     "data": {
      "application/vnd.jupyter.widget-view+json": {
       "model_id": "86b53f2a3b354983b1236efc09bb559c",
       "version_major": 2,
       "version_minor": 0
      },
      "text/plain": [
       "Generate report structure:   0%|          | 0/1 [00:00<?, ?it/s]"
      ]
     },
     "metadata": {},
     "output_type": "display_data"
    },
    {
     "data": {
      "application/vnd.jupyter.widget-view+json": {
       "model_id": "a2191578d4fc424da355dcb395f9f51c",
       "version_major": 2,
       "version_minor": 0
      },
      "text/plain": [
       "Render HTML:   0%|          | 0/1 [00:00<?, ?it/s]"
      ]
     },
     "metadata": {},
     "output_type": "display_data"
    },
    {
     "data": {
      "application/vnd.jupyter.widget-view+json": {
       "model_id": "02ac5c9039804189af246dc41ed69ee3",
       "version_major": 2,
       "version_minor": 0
      },
      "text/plain": [
       "Export report to file:   0%|          | 0/1 [00:00<?, ?it/s]"
      ]
     },
     "metadata": {},
     "output_type": "display_data"
    }
   ],
   "source": [
    "#인터렉션 데이터 분포 확인용용\n",
    "import pandas as pd\n",
    "from ydata_profiling import ProfileReport\n",
    "\n",
    "# 프로파일링 리포트 생성 (수정된 파일 기반)\n",
    "profile = ProfileReport(amazon, title=\"Profiling Report\")\n",
    "profile.to_file(\"distribution_check_amazon.html\")"
   ]
  },
  {
   "cell_type": "markdown",
   "metadata": {},
   "source": [
    "## 전처리 코드(스케일링 포함)"
   ]
  },
  {
   "cell_type": "code",
   "execution_count": null,
   "metadata": {},
   "outputs": [
    {
     "name": "stdout",
     "output_type": "stream",
     "text": [
      "['Product_Name', 'Review_Title', 'Review_Text', '']\n",
      "['Review_Text', 'Posted_Date', 'review_title', 'Rating_Distribution', 'Rating_of_Performance', 'Rating_of_Story', 'Crawled_date', 'Product_Name', 'Categories', '']\n",
      "['course_name', 'Review_Title', '']\n",
      "['Hotel_Name', 'Review_Text', 'Review_Title', 'Crawled_Date', '']\n"
     ]
    }
   ],
   "source": [
    "from sklearn.preprocessing import StandardScaler, MinMaxScaler, RobustScaler\n",
    "def preprocess(df, scaling_name):\n",
    "    removed_columns = df.select_dtypes(include=['object']).columns.tolist()\n",
    "    removed_columns.append('Rating')\n",
    "    print(removed_columns)\n",
    "    \n",
    "    df_clean = df.drop(columns=removed_columns)\n",
    "    \n",
    "    if scaling_name =='standard':\n",
    "        scaler = StandardScaler()\n",
    "    elif scaling_name == 'minmax':\n",
    "        scaler = MinMaxScaler()\n",
    "    elif scaling_name == 'robust':\n",
    "        scaler = RobustScaler()\n",
    "    \n",
    "    df_scaled = pd.DataFrame(scaler.fit_transform(df_clean), columns=df_clean.columns)\n",
    "    return df_scaled\n",
    "    \n",
    "amazon_scaled = preprocess(amazon, 'standard')\n",
    "audible_scaled = preprocess(audible, 'standard')\n",
    "coursera_scaled = preprocess(coursera, 'standard')\n",
    "hotel_scaled = preprocess(hotel, 'standard')"
   ]
  }
 ],
 "metadata": {
  "kernelspec": {
   "display_name": "base",
   "language": "python",
   "name": "python3"
  },
  "language_info": {
   "codemirror_mode": {
    "name": "ipython",
    "version": 3
   },
   "file_extension": ".py",
   "mimetype": "text/x-python",
   "name": "python",
   "nbconvert_exporter": "python",
   "pygments_lexer": "ipython3",
   "version": "3.12.7"
  }
 },
 "nbformat": 4,
 "nbformat_minor": 2
}
