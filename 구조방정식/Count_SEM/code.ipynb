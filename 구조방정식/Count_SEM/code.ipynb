{
 "cells": [
  {
   "cell_type": "code",
   "execution_count": 1,
   "metadata": {},
   "outputs": [],
   "source": [
    "import pandas as pd\n",
    "amazon = pd.read_csv(r\"C:\\Users\\Administrator\\Desktop\\PADA_LAB\\final_data\\amazon_sentiment.csv\", encoding='latin1')\n",
    "audible = pd.read_csv(r\"C:\\Users\\Administrator\\Desktop\\PADA_LAB\\final_data\\audible_sentiment.csv\")\n",
    "coursera = pd.read_csv(r\"C:\\Users\\Administrator\\Desktop\\PADA_LAB\\final_data\\coursera_sentiment.csv\")\n",
    "hotel = pd.read_csv(r\"C:\\Users\\Administrator\\Desktop\\PADA_LAB\\final_data\\hotel_sentiment.csv\")"
   ]
  },
  {
   "cell_type": "code",
   "execution_count": 13,
   "metadata": {},
   "outputs": [
    {
     "data": {
      "application/vnd.jupyter.widget-view+json": {
       "model_id": "9c8dfa539c3743d199762b626f9e37e8",
       "version_major": 2,
       "version_minor": 0
      },
      "text/plain": [
       "Summarize dataset:   0%|          | 0/5 [00:00<?, ?it/s]"
      ]
     },
     "metadata": {},
     "output_type": "display_data"
    },
    {
     "data": {
      "application/vnd.jupyter.widget-view+json": {
       "model_id": "53d7798e46f649b684f7329214753b87",
       "version_major": 2,
       "version_minor": 0
      },
      "text/plain": [
       "Generate report structure:   0%|          | 0/1 [00:00<?, ?it/s]"
      ]
     },
     "metadata": {},
     "output_type": "display_data"
    },
    {
     "data": {
      "application/vnd.jupyter.widget-view+json": {
       "model_id": "e86bba1b020f4abba709b5634c235ff3",
       "version_major": 2,
       "version_minor": 0
      },
      "text/plain": [
       "Render HTML:   0%|          | 0/1 [00:00<?, ?it/s]"
      ]
     },
     "metadata": {},
     "output_type": "display_data"
    },
    {
     "data": {
      "application/vnd.jupyter.widget-view+json": {
       "model_id": "dd21abc1289942e1957f03db6cc327ef",
       "version_major": 2,
       "version_minor": 0
      },
      "text/plain": [
       "Export report to file:   0%|          | 0/1 [00:00<?, ?it/s]"
      ]
     },
     "metadata": {},
     "output_type": "display_data"
    }
   ],
   "source": [
    "#인터렉션 데이터 분포 확인용용\n",
    "import pandas as pd\n",
    "from ydata_profiling import ProfileReport\n",
    "scaled_audible = pd.read_csv(r\"C:\\Users\\Administrator\\Desktop\\PADA_LAB\\구조방정식\\Count_SEM\\scaled_data\\amazon_scaled.csv\")\n",
    "\n",
    "# 프로파일링 리포트 생성 (수정된 파일 기반)\n",
    "profile = ProfileReport(scaled_audible, title=\"Profiling Report\")\n",
    "profile.to_file(\"distribution_check_amazon.html\")"
   ]
  },
  {
   "cell_type": "markdown",
   "metadata": {},
   "source": [
    "## 전처리 코드(스케일링 포함)"
   ]
  },
  {
   "cell_type": "code",
   "execution_count": 12,
   "metadata": {},
   "outputs": [
    {
     "name": "stdout",
     "output_type": "stream",
     "text": [
      "제외된 열: ['Product_Name', 'Review_Title', 'Review_Text', 'Helpfulness']\n"
     ]
    }
   ],
   "source": [
    "import pandas as pd\n",
    "import numpy as np\n",
    "from scipy.stats import boxcox\n",
    "from sklearn.preprocessing import StandardScaler, MinMaxScaler, RobustScaler\n",
    "\n",
    "def preprocess(df, scaling_name):\n",
    "    removed_columns = df.select_dtypes(include=['object']).columns.tolist()\n",
    "    \n",
    "    # Helpfulness 열 따로 저장\n",
    "    helpfullness_col = df['Helpfulness'] if 'Helpfulness' in df.columns else None\n",
    "    removed_columns.append('Helpfulness')\n",
    "\n",
    "    print(\"제외된 열:\", removed_columns)\n",
    "    \n",
    "    df_clean = df.drop(columns=removed_columns)\n",
    "    df_clean = df_clean.dropna()\n",
    "\n",
    "    \n",
    "\n",
    "    if scaling_name == 'standard':\n",
    "            scaler = StandardScaler()\n",
    "    elif scaling_name == 'minmax':\n",
    "            scaler = MinMaxScaler()\n",
    "    elif scaling_name == 'robust':\n",
    "            scaler = RobustScaler()\n",
    "        \n",
    "    df_scaled = pd.DataFrame(scaler.fit_transform(df_clean), columns=df_clean.columns)\n",
    "    \n",
    "    # Helpfulness 열 다시 추가\n",
    "    if helpfullness_col is not None:\n",
    "        df_scaled['Helpfulness'] = helpfullness_col[df_clean.index].values\n",
    "    \n",
    "    return df_scaled\n",
    "\n",
    "# 데이터셋 변환 (음수 처리 적용)\n",
    "amazon_scaled = preprocess(amazon, 'standard')  # Box-Cox 변환\n",
    "# audible_scaled = preprocess(audible, 'log')  # 로그 변환\n",
    "# coursera_scaled = preprocess(coursera, 'minmax')  # MinMax 스케일링\n",
    "# hotel_scaled = preprocess(hotel, 'robust')  # Robust 스케일링\n",
    "\n",
    "# 결과 저장\n",
    "output_path = \"C:/Users/Administrator/Desktop/PADA_LAB/구조방정식/Count_SEM/scaled_data\"\n",
    "amazon_scaled.to_csv(f\"{output_path}/amazon_scaled.csv\", index=False)\n",
    "# audible_scaled.to_csv(f\"{output_path}\\audible_scaled.csv\", index=False)\n",
    "# coursera_scaled.to_csv(f\"{output_path}\\coursera_scaled.csv\", index=False)\n",
    "# hotel_scaled.to_csv(f\"{output_path}\\hotel_scaled.csv\", index=False)\n"
   ]
  },
  {
   "cell_type": "markdown",
   "metadata": {},
   "source": [
    "## 포아송분포를 이용"
   ]
  },
  {
   "cell_type": "code",
   "execution_count": 12,
   "metadata": {},
   "outputs": [
    {
     "name": "stdout",
     "output_type": "stream",
     "text": [
      "Index(['Num_of_Ratings', 'Helpfulness', 'Is_Photo', 'Price', 'Time_Lapsed',\n",
      "       'Average_Rating', 'Title_Length', 'Text_Length',\n",
      "       'Deviation_Of_Star_Ratings', 'FOG_Index', 'Flesch_Reading_Ease',\n",
      "       'Depth', 'Breadth', 'Valence', 'Arousal', 'Interaction'],\n",
      "      dtype='object')\n"
     ]
    }
   ],
   "source": [
    "print(amazon_scaled.columns)"
   ]
  },
  {
   "cell_type": "markdown",
   "metadata": {},
   "source": []
  }
 ],
 "metadata": {
  "kernelspec": {
   "display_name": "base",
   "language": "python",
   "name": "python3"
  },
  "language_info": {
   "codemirror_mode": {
    "name": "ipython",
    "version": 3
   },
   "file_extension": ".py",
   "mimetype": "text/x-python",
   "name": "python",
   "nbconvert_exporter": "python",
   "pygments_lexer": "ipython3",
   "version": "3.12.7"
  }
 },
 "nbformat": 4,
 "nbformat_minor": 2
}
