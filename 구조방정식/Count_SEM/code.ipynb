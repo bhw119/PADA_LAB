{
 "cells": [
  {
   "cell_type": "code",
   "execution_count": 1,
   "metadata": {},
   "outputs": [],
   "source": [
    "import pandas as pd\n",
    "amazon = pd.read_csv(r\"C:\\Users\\Administrator\\Desktop\\PADA_LAB\\final_data\\amazon_sentiment.csv\", encoding='latin1')\n",
    "audible = pd.read_csv(r\"C:\\Users\\Administrator\\Desktop\\PADA_LAB\\final_data\\audible_sentiment.csv\")\n",
    "coursera = pd.read_csv(r\"C:\\Users\\Administrator\\Desktop\\PADA_LAB\\final_data\\coursera_sentiment.csv\")\n",
    "hotel = pd.read_csv(r\"C:\\Users\\Administrator\\Desktop\\PADA_LAB\\final_data\\hotel_sentiment.csv\")"
   ]
  },
  {
   "cell_type": "code",
   "execution_count": 6,
   "metadata": {},
   "outputs": [
    {
     "data": {
      "application/vnd.jupyter.widget-view+json": {
       "model_id": "bfd233b4ec57429080f13f7ea117288c",
       "version_major": 2,
       "version_minor": 0
      },
      "text/plain": [
       "Summarize dataset:   0%|          | 0/5 [00:00<?, ?it/s]"
      ]
     },
     "metadata": {},
     "output_type": "display_data"
    },
    {
     "data": {
      "application/vnd.jupyter.widget-view+json": {
       "model_id": "86b53f2a3b354983b1236efc09bb559c",
       "version_major": 2,
       "version_minor": 0
      },
      "text/plain": [
       "Generate report structure:   0%|          | 0/1 [00:00<?, ?it/s]"
      ]
     },
     "metadata": {},
     "output_type": "display_data"
    },
    {
     "data": {
      "application/vnd.jupyter.widget-view+json": {
       "model_id": "a2191578d4fc424da355dcb395f9f51c",
       "version_major": 2,
       "version_minor": 0
      },
      "text/plain": [
       "Render HTML:   0%|          | 0/1 [00:00<?, ?it/s]"
      ]
     },
     "metadata": {},
     "output_type": "display_data"
    },
    {
     "data": {
      "application/vnd.jupyter.widget-view+json": {
       "model_id": "02ac5c9039804189af246dc41ed69ee3",
       "version_major": 2,
       "version_minor": 0
      },
      "text/plain": [
       "Export report to file:   0%|          | 0/1 [00:00<?, ?it/s]"
      ]
     },
     "metadata": {},
     "output_type": "display_data"
    }
   ],
   "source": [
    "#인터렉션 데이터 분포 확인용용\n",
    "import pandas as pd\n",
    "from ydata_profiling import ProfileReport\n",
    "\n",
    "# 프로파일링 리포트 생성 (수정된 파일 기반)\n",
    "profile = ProfileReport(amazon, title=\"Profiling Report\")\n",
    "profile.to_file(\"distribution_check_amazon.html\")"
   ]
  },
  {
   "cell_type": "markdown",
   "metadata": {},
   "source": [
    "## 전처리 코드(스케일링 포함)"
   ]
  },
  {
   "cell_type": "code",
   "execution_count": 3,
   "metadata": {},
   "outputs": [
    {
     "name": "stdout",
     "output_type": "stream",
     "text": [
      "['Product_Name', 'Review_Title', 'Review_Text', 'Rating', 'Helpfulness']\n",
      "['Review_Text', 'Posted_Date', 'Review_Title', 'Rating_Distribution', 'Rating_of_Performance', 'Rating_of_Story', 'Crawled_Date', 'Product_Name', 'Categories', 'Rating', 'Helpfulness']\n",
      "['course_name', 'Review_Title', 'Rating', 'Helpfulness']\n",
      "['Hotel_Name', 'Review_Text', 'Review_Title', 'Crawled_Date', 'Rating', 'Helpfulness']\n"
     ]
    }
   ],
   "source": [
    "from sklearn.preprocessing import StandardScaler, MinMaxScaler, RobustScaler\n",
    "def preprocess(df, scaling_name):\n",
    "    removed_columns = df.select_dtypes(include=['object']).columns.tolist()\n",
    "    removed_columns.append('Rating')\n",
    "    # Helpfulness 열을 따로 저장\n",
    "    helpfullness_col = df['Helpfulness'] if 'Helpfulness' in df.columns else None\n",
    "    removed_columns.append('Helpfulness')  # 스케일링에서 제외\n",
    "    print(removed_columns)\n",
    "    \n",
    "    df_clean = df.drop(columns=removed_columns)\n",
    "    df_clean = df_clean.dropna()\n",
    "    if scaling_name =='standard':\n",
    "        scaler = StandardScaler()\n",
    "    elif scaling_name == 'minmax':\n",
    "        scaler = MinMaxScaler()\n",
    "    elif scaling_name == 'robust':\n",
    "        scaler = RobustScaler()\n",
    "    \n",
    "    df_scaled = pd.DataFrame(scaler.fit_transform(df_clean), columns=df_clean.columns)\n",
    "    \n",
    "    # Helpfulness 열 다시 추가\n",
    "    if helpfullness_col is not None:\n",
    "        df_scaled['Helpfulness'] = helpfullness_col[df_clean.index].values\n",
    "    \n",
    "    return df_scaled\n",
    "    \n",
    "amazon_scaled = preprocess(amazon, 'standard')\n",
    "audible_scaled = preprocess(audible, 'standard')\n",
    "coursera_scaled = preprocess(coursera, 'standard')\n",
    "hotel_scaled = preprocess(hotel, 'standard')\n",
    "amazon_scaled.to_csv(r\"C:\\Users\\Administrator\\Desktop\\PADA_LAB\\구조방정식\\Count_SEM\\scaled_data\\amazon_scaled.csv\", index=False)\n",
    "audible_scaled.to_csv(r\"C:\\Users\\Administrator\\Desktop\\PADA_LAB\\구조방정식\\Count_SEM\\scaled_data\\audible_scaled.csv\", index=False)\n",
    "coursera_scaled.to_csv(r\"C:\\Users\\Administrator\\Desktop\\PADA_LAB\\구조방정식\\Count_SEM\\scaled_data\\coursera_scaled.csv\", index=False)\n",
    "hotel_scaled.to_csv(r\"C:\\Users\\Administrator\\Desktop\\PADA_LAB\\구조방정식\\Count_SEM\\scaled_data\\hotel_scaled.csv\", index=False)"
   ]
  },
  {
   "cell_type": "markdown",
   "metadata": {},
   "source": [
    "## 포아송분포를 이용"
   ]
  },
  {
   "cell_type": "code",
   "execution_count": 12,
   "metadata": {},
   "outputs": [
    {
     "name": "stdout",
     "output_type": "stream",
     "text": [
      "Index(['Num_of_Ratings', 'Helpfulness', 'Is_Photo', 'Price', 'Time_Lapsed',\n",
      "       'Average_Rating', 'Title_Length', 'Text_Length',\n",
      "       'Deviation_Of_Star_Ratings', 'FOG_Index', 'Flesch_Reading_Ease',\n",
      "       'Depth', 'Breadth', 'Valence', 'Arousal', 'Interaction'],\n",
      "      dtype='object')\n"
     ]
    }
   ],
   "source": [
    "print(amazon_scaled.columns)"
   ]
  },
  {
   "cell_type": "markdown",
   "metadata": {},
   "source": []
  }
 ],
 "metadata": {
  "kernelspec": {
   "display_name": "base",
   "language": "python",
   "name": "python3"
  },
  "language_info": {
   "codemirror_mode": {
    "name": "ipython",
    "version": 3
   },
   "file_extension": ".py",
   "mimetype": "text/x-python",
   "name": "python",
   "nbconvert_exporter": "python",
   "pygments_lexer": "ipython3",
   "version": "3.12.7"
  }
 },
 "nbformat": 4,
 "nbformat_minor": 2
}
