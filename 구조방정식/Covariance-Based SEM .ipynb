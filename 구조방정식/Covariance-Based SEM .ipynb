{
 "cells": [
  {
   "cell_type": "markdown",
   "id": "49e12529-3480-4b7f-9b34-f8a695bfb4ee",
   "metadata": {},
   "source": [
    "# import"
   ]
  },
  {
   "cell_type": "code",
   "execution_count": 27,
   "id": "6b57c4e8-9393-4975-9517-f9caf8762adb",
   "metadata": {},
   "outputs": [],
   "source": [
    "import pandas as pd\n",
    "import numpy as np\n",
    "from semopy import Model\n",
    "from semopy import calc_stats\n",
    "from sklearn.preprocessing import StandardScaler"
   ]
  },
  {
   "cell_type": "markdown",
   "id": "41d2b193-18fc-4aa0-b804-02c5368354cf",
   "metadata": {},
   "source": [
    "# Read_Data"
   ]
  },
  {
   "cell_type": "code",
   "execution_count": 35,
   "id": "4a4c7e0d-0b87-42a8-8903-6c14ed76bcfd",
   "metadata": {},
   "outputs": [
    {
     "data": {
      "text/plain": [
       "Product_Name                  object\n",
       "Num_of_Ratings                 int64\n",
       "Rating                         int64\n",
       "Review_Title                  object\n",
       "Review_Text                   object\n",
       "Helpfulness                    int64\n",
       "Is_Photo                       int64\n",
       "Price                        float64\n",
       "Time_Lapsed                    int64\n",
       "Average_Rating               float64\n",
       "Title_Length                   int64\n",
       "Text_Length                    int64\n",
       "Deviation_Of_Star_Ratings    float64\n",
       "FOG_Index                    float64\n",
       "Flesch_Reading_Ease          float64\n",
       "Depth                        float64\n",
       "Breadth                      float64\n",
       "Valence                      float64\n",
       "Arousal                      float64\n",
       "Interaction                  float64\n",
       "dtype: object"
      ]
     },
     "execution_count": 35,
     "metadata": {},
     "output_type": "execute_result"
    }
   ],
   "source": [
    "hotel = pd.read_csv(\"../final_data/hotel_sentiment.csv\")\n",
    "amazon = pd.read_csv(\"../final_data/amazon_sentiment.csv\")\n",
    "coursera = pd.read_csv(\"../final_data/coursera_sentiment.csv\")\n",
    "audible = pd.read_csv(\"../final_data/audible_sentiment.csv\")\n",
    "\n",
    "amazon.dtypes"
   ]
  },
  {
   "cell_type": "markdown",
   "id": "485fbeac-3ff8-4398-8305-d836f04b0084",
   "metadata": {},
   "source": [
    "# Scaling"
   ]
  },
  {
   "cell_type": "code",
   "execution_count": 29,
   "id": "bff02d68-4d15-4450-a6eb-0099ead73cec",
   "metadata": {},
   "outputs": [],
   "source": [
    "# 'Helpfulness' 컬럼을 제외한 수치형 컬럼 선택\n",
    "hotel_numeric_cols = hotel.select_dtypes(include=['float64', 'int64']).drop(columns=['Helpfulness'], errors='ignore').dropna()\n",
    "amazon_numeric_cols = amazon.select_dtypes(include=['float64', 'int64']).drop(columns=['Helpfulness'], errors='ignore').dropna()\n",
    "coursera_numeric_cols = coursera.select_dtypes(include=['float64', 'int64']).drop(columns=['Helpfulness'], errors='ignore').dropna()\n",
    "audible_numeric_cols = audible.select_dtypes(include=['float64', 'int64']).drop(columns=['Helpfulness'], errors='ignore').dropna()\n",
    "\n",
    "# StandardScaler로 스케일링 적용\n",
    "scaler = StandardScaler()\n",
    "hotel_scaled = hotel.copy()\n",
    "amazon_scaled = amazon.copy()\n",
    "coursera_scaled = coursera.copy()\n",
    "audible_scaled = audible.copy()\n",
    "\n",
    "# 'Helpfulness' 제외하고 스케일링 적용\n",
    "hotel_scaled[hotel_numeric_cols.columns] = scaler.fit_transform(hotel_numeric_cols)\n",
    "amazon_scaled[amazon_numeric_cols.columns] = scaler.fit_transform(amazon_numeric_cols)\n",
    "coursera_scaled[coursera_numeric_cols.columns] = scaler.fit_transform(coursera_numeric_cols)\n",
    "audible_scaled[audible_numeric_cols.columns] = scaler.fit_transform(audible_numeric_cols)"
   ]
  },
  {
   "cell_type": "markdown",
   "id": "dfdc8a8e-69a3-483e-aec9-7403eaf7d3b7",
   "metadata": {},
   "source": [
    "# Covariance-Based SEM"
   ]
  },
  {
   "cell_type": "markdown",
   "id": "7949f602-a72f-4c9f-ba66-7e627acd9af4",
   "metadata": {},
   "source": [
    "## Hotel"
   ]
  },
  {
   "cell_type": "code",
   "execution_count": 30,
   "id": "aafda0b8-bc87-43fc-a473-93ffb2e0a656",
   "metadata": {},
   "outputs": [
    {
     "name": "stdout",
     "output_type": "stream",
     "text": [
      "                         lval  op                       rval      Estimate  \\\n",
      "0                      Rating   ~                  Heuristic  1.000000e+00   \n",
      "1              Average_Rating   ~                  Heuristic  2.422978e-01   \n",
      "2                    Is_Photo   ~                  Heuristic  1.867192e-02   \n",
      "3                 Text_Length   ~                  Heuristic -2.068267e-01   \n",
      "4                 Time_Lapsed   ~                  Heuristic  2.166463e-02   \n",
      "5   Deviation_Of_Star_Ratings   ~                  Heuristic -5.647456e-01   \n",
      "6                   FOG_Index   ~                 Systematic  1.000000e+00   \n",
      "7                       Depth   ~                 Systematic -1.169532e+02   \n",
      "8                     Breadth   ~                 Systematic  8.459015e+01   \n",
      "9                 Interaction   ~                 Systematic -1.147844e+01   \n",
      "10                Helpfulness   ~                  Heuristic -4.492274e-02   \n",
      "11                Helpfulness   ~                 Systematic -2.166889e+00   \n",
      "12                  Heuristic  ~~                  Heuristic  1.000032e+00   \n",
      "13                  Heuristic  ~~                 Systematic -1.190258e-04   \n",
      "14                 Systematic  ~~                 Systematic  7.309883e-05   \n",
      "15             Average_Rating  ~~             Average_Rating  9.413040e-01   \n",
      "16                    Breadth  ~~                    Breadth  4.769075e-01   \n",
      "17                      Depth  ~~                      Depth  2.197127e-18   \n",
      "18  Deviation_Of_Star_Ratings  ~~  Deviation_Of_Star_Ratings  6.810587e-01   \n",
      "19                  FOG_Index  ~~                  FOG_Index  1.000025e+00   \n",
      "20                Helpfulness  ~~                Helpfulness  1.399616e-01   \n",
      "21                Interaction  ~~                Interaction  9.903231e-01   \n",
      "22                   Is_Photo  ~~                   Is_Photo  9.996507e-01   \n",
      "23                     Rating  ~~                     Rating  1.038849e-17   \n",
      "24                Text_Length  ~~                Text_Length  9.572390e-01   \n",
      "25                Time_Lapsed  ~~                Time_Lapsed  9.995301e-01   \n",
      "\n",
      "     Std. Err     z-value   p-value  \n",
      "0           -           -         -  \n",
      "1    0.004596   52.714185       0.0  \n",
      "2    0.003351    5.571523       0.0  \n",
      "3    0.004293  -48.182718       0.0  \n",
      "4    0.003354    6.458633       0.0  \n",
      "5    0.008078  -69.911946       0.0  \n",
      "6           -           -         -  \n",
      "7   45.845451   -2.551032   0.01074  \n",
      "8   33.072021    2.557756  0.010535  \n",
      "9    4.504385   -2.548282  0.010825  \n",
      "10   0.001389  -32.345158       0.0  \n",
      "11   0.859692   -2.520542  0.011717  \n",
      "12   0.014251   70.171713       0.0  \n",
      "13   0.000055   -2.175336  0.029605  \n",
      "14   0.000057    1.278043  0.201234  \n",
      "15   0.004519  208.296172       0.0  \n",
      "16    0.01512   31.542437       0.0  \n",
      "17   0.028579         0.0       1.0  \n",
      "18   0.005362  127.016447       0.0  \n",
      "19   0.004727  211.547846       0.0  \n",
      "20   0.000662  211.347017       0.0  \n",
      "21   0.004689  211.183042       0.0  \n",
      "22   0.004725  211.547763       0.0  \n",
      "23   0.013444         0.0       1.0  \n",
      "24   0.004561   209.85961       0.0  \n",
      "25   0.004725  211.547678       0.0  \n",
      "\n",
      "모델 적합도 지표:\n",
      "       DoF  DoF Baseline          chi2  chi2 p-value  chi2 Baseline       CFI  \\\n",
      "Value   42            55  29931.628318           0.0     142357.518  0.789957   \n",
      "\n",
      "            GFI      AGFI       NFI       TLI     RMSEA        AIC  \\\n",
      "Value  0.789743  0.724664  0.789743  0.724944  0.089169  47.331174   \n",
      "\n",
      "              BIC    LogLik  \n",
      "Value  272.980369  0.334413  \n"
     ]
    }
   ],
   "source": [
    "# SEM 모델 정의\n",
    "desc = \"\"\"\n",
    "# Latent variables\n",
    "Heuristic =~ Rating + Average_Rating + Is_Photo + Text_Length + Time_Lapsed + Deviation_Of_Star_Ratings \n",
    "Systematic =~ FOG_Index + Depth + Breadth + Interaction\n",
    "\n",
    "# Structural relationships\n",
    "Helpfulness ~ Heuristic + Systematic\n",
    "\"\"\"\n",
    "\n",
    "# 모델 생성 및 피팅\n",
    "model = Model(desc)\n",
    "model.fit(hotel_scaled)  \n",
    "\n",
    "# 결과 출력\n",
    "params = model.inspect()\n",
    "print(params)\n",
    "\n",
    "# 🔹 모델 적합도 지표 계산\n",
    "fit_stats = calc_stats(model)\n",
    "\n",
    "# 🔹 적합도 지표 출력\n",
    "print(\"\\n모델 적합도 지표:\")\n",
    "print(fit_stats)"
   ]
  },
  {
   "cell_type": "markdown",
   "id": "b53ccfb3-3a49-4a10-a6ff-acb67552613c",
   "metadata": {},
   "source": [
    "## amazon"
   ]
  },
  {
   "cell_type": "code",
   "execution_count": 31,
   "id": "3a33e776-c269-4f34-bb07-2428569c7653",
   "metadata": {},
   "outputs": [
    {
     "name": "stdout",
     "output_type": "stream",
     "text": [
      "                         lval  op                       rval  Estimate  \\\n",
      "0                      Rating   ~                  Heuristic  1.000000   \n",
      "1              Average_Rating   ~                  Heuristic  0.248084   \n",
      "2                    Is_Photo   ~                  Heuristic -0.024270   \n",
      "3                 Text_Length   ~                  Heuristic -0.135524   \n",
      "4                 Time_Lapsed   ~                  Heuristic  0.055307   \n",
      "5   Deviation_Of_Star_Ratings   ~                  Heuristic -1.020218   \n",
      "6                   FOG_Index   ~                 Systematic  1.000000   \n",
      "7                       Depth   ~                 Systematic  3.176920   \n",
      "8                     Breadth   ~                 Systematic -5.055512   \n",
      "9                 Interaction   ~                 Systematic  0.100507   \n",
      "10                Helpfulness   ~                  Heuristic -0.094245   \n",
      "11                Helpfulness   ~                 Systematic  0.733895   \n",
      "12                  Heuristic  ~~                  Heuristic  0.934830   \n",
      "13                  Heuristic  ~~                 Systematic -0.017762   \n",
      "14                 Systematic  ~~                 Systematic  0.039126   \n",
      "15             Average_Rating  ~~             Average_Rating  0.942460   \n",
      "16                    Breadth  ~~                    Breadth  0.000000   \n",
      "17                      Depth  ~~                      Depth  0.605146   \n",
      "18  Deviation_Of_Star_Ratings  ~~  Deviation_Of_Star_Ratings  0.026970   \n",
      "19                  FOG_Index  ~~                  FOG_Index  0.960792   \n",
      "20                Helpfulness  ~~                Helpfulness  9.877732   \n",
      "21                Interaction  ~~                Interaction  0.999608   \n",
      "22                   Is_Photo  ~~                   Is_Photo  0.999445   \n",
      "23                     Rating  ~~                     Rating  0.065160   \n",
      "24                Text_Length  ~~                Text_Length  0.982836   \n",
      "25                Time_Lapsed  ~~                Time_Lapsed  0.997135   \n",
      "\n",
      "    Std. Err     z-value p-value  \n",
      "0          -           -       -  \n",
      "1   0.003397   73.025373     0.0  \n",
      "2   0.003482   -6.970016     0.0  \n",
      "3   0.003458  -39.196089     0.0  \n",
      "4   0.003479    15.89862     0.0  \n",
      "5   0.003667 -278.196547     0.0  \n",
      "6          -           -       -  \n",
      "7   0.054111   58.710989     0.0  \n",
      "8   0.123603  -40.901328     0.0  \n",
      "9   0.016937    5.934188     0.0  \n",
      "10  0.010999   -8.568845     0.0  \n",
      "11  0.054584    13.44522     0.0  \n",
      "12  0.005702  163.956774     0.0  \n",
      "13   0.00078  -22.760998     0.0  \n",
      "14  0.001484   26.359613     0.0  \n",
      "15  0.004451  211.750692     0.0  \n",
      "16  0.018019         0.0     1.0  \n",
      "17  0.007667   78.932692     0.0  \n",
      "18  0.003353    8.043167     0.0  \n",
      "19  0.004586  209.524792     0.0  \n",
      "20  0.046585  212.035405     0.0  \n",
      "21  0.004714  212.045744     0.0  \n",
      "22  0.004713   212.04367     0.0  \n",
      "23  0.003234   20.148756     0.0  \n",
      "24  0.004637  211.969459     0.0  \n",
      "25  0.004703  212.033862     0.0  \n",
      "\n",
      "모델 적합도 지표:\n",
      "       DoF  DoF Baseline          chi2  chi2 p-value  chi2 Baseline       CFI  \\\n",
      "Value   42            55  25799.279802           0.0  298875.147089  0.913803   \n",
      "\n",
      "            GFI     AGFI       NFI       TLI     RMSEA        AIC         BIC  \\\n",
      "Value  0.913679  0.88696  0.913679  0.887124  0.082581  47.426217  273.188301   \n",
      "\n",
      "         LogLik  \n",
      "Value  0.286891  \n"
     ]
    }
   ],
   "source": [
    "# SEM 모델 정의\n",
    "desc = \"\"\"\n",
    "# Latent variables\n",
    "Heuristic =~ Rating + Average_Rating + Is_Photo + Text_Length + Time_Lapsed + Deviation_Of_Star_Ratings \n",
    "Systematic =~ FOG_Index + Depth + Breadth + Interaction\n",
    "\n",
    "# Structural relationships\n",
    "Helpfulness ~ Heuristic + Systematic\n",
    "\"\"\"\n",
    "\n",
    "# 모델 생성 및 피팅\n",
    "model = Model(desc)\n",
    "model.fit(amazon_scaled)  \n",
    "\n",
    "# 결과 출력\n",
    "params = model.inspect()\n",
    "print(params)\n",
    "\n",
    "# 🔹 모델 적합도 지표 계산\n",
    "fit_stats = calc_stats(model)\n",
    "\n",
    "# 🔹 적합도 지표 출력\n",
    "print(\"\\n모델 적합도 지표:\")\n",
    "print(fit_stats)"
   ]
  },
  {
   "cell_type": "markdown",
   "id": "90fbb41a-7631-4e9c-af4a-f4d9126cf8dc",
   "metadata": {},
   "source": [
    "## coursera"
   ]
  },
  {
   "cell_type": "code",
   "execution_count": 32,
   "id": "57069b27-6ba2-4683-b295-1233036b16d9",
   "metadata": {},
   "outputs": [
    {
     "ename": "KeyError",
     "evalue": "'Variables FOG_Index, Is_Photo are missing from data.'",
     "output_type": "error",
     "traceback": [
      "\u001b[0;31m---------------------------------------------------------------------------\u001b[0m",
      "\u001b[0;31mKeyError\u001b[0m                                  Traceback (most recent call last)",
      "Cell \u001b[0;32mIn[32], line 13\u001b[0m\n\u001b[1;32m     11\u001b[0m \u001b[38;5;66;03m# 모델 생성 및 피팅\u001b[39;00m\n\u001b[1;32m     12\u001b[0m model \u001b[38;5;241m=\u001b[39m Model(desc)\n\u001b[0;32m---> 13\u001b[0m \u001b[43mmodel\u001b[49m\u001b[38;5;241;43m.\u001b[39;49m\u001b[43mfit\u001b[49m\u001b[43m(\u001b[49m\u001b[43mcoursera_scaled\u001b[49m\u001b[43m)\u001b[49m  \n\u001b[1;32m     15\u001b[0m \u001b[38;5;66;03m# 결과 출력\u001b[39;00m\n\u001b[1;32m     16\u001b[0m params \u001b[38;5;241m=\u001b[39m model\u001b[38;5;241m.\u001b[39minspect()\n",
      "File \u001b[0;32m/opt/homebrew/Cellar/jupyterlab/4.3.3/libexec/lib/python3.13/site-packages/semopy/model.py:1097\u001b[0m, in \u001b[0;36mModel.fit\u001b[0;34m(self, data, cov, obj, solver, groups, clean_slate, regularization, n_samples, **kwargs)\u001b[0m\n\u001b[1;32m   1054\u001b[0m \u001b[38;5;28;01mdef\u001b[39;00m \u001b[38;5;21mfit\u001b[39m(\u001b[38;5;28mself\u001b[39m, data\u001b[38;5;241m=\u001b[39m\u001b[38;5;28;01mNone\u001b[39;00m, cov\u001b[38;5;241m=\u001b[39m\u001b[38;5;28;01mNone\u001b[39;00m, obj\u001b[38;5;241m=\u001b[39m\u001b[38;5;124m'\u001b[39m\u001b[38;5;124mMLW\u001b[39m\u001b[38;5;124m'\u001b[39m, solver\u001b[38;5;241m=\u001b[39m\u001b[38;5;124m'\u001b[39m\u001b[38;5;124mSLSQP\u001b[39m\u001b[38;5;124m'\u001b[39m, groups\u001b[38;5;241m=\u001b[39m\u001b[38;5;28;01mNone\u001b[39;00m,\n\u001b[1;32m   1055\u001b[0m         clean_slate\u001b[38;5;241m=\u001b[39m\u001b[38;5;28;01mFalse\u001b[39;00m, regularization\u001b[38;5;241m=\u001b[39m\u001b[38;5;28;01mNone\u001b[39;00m, n_samples\u001b[38;5;241m=\u001b[39m\u001b[38;5;28;01mNone\u001b[39;00m, \u001b[38;5;241m*\u001b[39m\u001b[38;5;241m*\u001b[39mkwargs):\n\u001b[1;32m   1056\u001b[0m \u001b[38;5;250m    \u001b[39m\u001b[38;5;124;03m\"\"\"\u001b[39;00m\n\u001b[1;32m   1057\u001b[0m \u001b[38;5;124;03m    Fit model to data.\u001b[39;00m\n\u001b[1;32m   1058\u001b[0m \n\u001b[0;32m   (...)\u001b[0m\n\u001b[1;32m   1095\u001b[0m \n\u001b[1;32m   1096\u001b[0m \u001b[38;5;124;03m    \"\"\"\u001b[39;00m\n\u001b[0;32m-> 1097\u001b[0m     \u001b[38;5;28;43mself\u001b[39;49m\u001b[38;5;241;43m.\u001b[39;49m\u001b[43mload\u001b[49m\u001b[43m(\u001b[49m\u001b[43mdata\u001b[49m\u001b[38;5;241;43m=\u001b[39;49m\u001b[43mdata\u001b[49m\u001b[43m,\u001b[49m\u001b[43m \u001b[49m\u001b[43mcov\u001b[49m\u001b[38;5;241;43m=\u001b[39;49m\u001b[43mcov\u001b[49m\u001b[43m,\u001b[49m\u001b[43m \u001b[49m\u001b[43mgroups\u001b[49m\u001b[38;5;241;43m=\u001b[39;49m\u001b[43mgroups\u001b[49m\u001b[43m,\u001b[49m\n\u001b[1;32m   1098\u001b[0m \u001b[43m              \u001b[49m\u001b[43mclean_slate\u001b[49m\u001b[38;5;241;43m=\u001b[39;49m\u001b[43mclean_slate\u001b[49m\u001b[43m,\u001b[49m\u001b[43m \u001b[49m\u001b[43mn_samples\u001b[49m\u001b[38;5;241;43m=\u001b[39;49m\u001b[43mn_samples\u001b[49m\u001b[43m)\u001b[49m\n\u001b[1;32m   1099\u001b[0m     \u001b[38;5;28;01mif\u001b[39;00m obj \u001b[38;5;241m==\u001b[39m \u001b[38;5;124m'\u001b[39m\u001b[38;5;124mFIML\u001b[39m\u001b[38;5;124m'\u001b[39m:\n\u001b[1;32m   1100\u001b[0m         \u001b[38;5;28;01mif\u001b[39;00m \u001b[38;5;129;01mnot\u001b[39;00m \u001b[38;5;28mhasattr\u001b[39m(\u001b[38;5;28mself\u001b[39m, \u001b[38;5;124m'\u001b[39m\u001b[38;5;124mmx_data\u001b[39m\u001b[38;5;124m'\u001b[39m):\n",
      "File \u001b[0;32m/opt/homebrew/Cellar/jupyterlab/4.3.3/libexec/lib/python3.13/site-packages/semopy/model.py:1036\u001b[0m, in \u001b[0;36mModel.load\u001b[0;34m(self, data, cov, groups, clean_slate, n_samples)\u001b[0m\n\u001b[1;32m   1034\u001b[0m \u001b[38;5;28;01mif\u001b[39;00m missing:\n\u001b[1;32m   1035\u001b[0m     t \u001b[38;5;241m=\u001b[39m \u001b[38;5;124m'\u001b[39m\u001b[38;5;124m, \u001b[39m\u001b[38;5;124m'\u001b[39m\u001b[38;5;241m.\u001b[39mjoin(missing)\n\u001b[0;32m-> 1036\u001b[0m     \u001b[38;5;28;01mraise\u001b[39;00m \u001b[38;5;167;01mKeyError\u001b[39;00m(\u001b[38;5;124m'\u001b[39m\u001b[38;5;124mVariables \u001b[39m\u001b[38;5;132;01m{}\u001b[39;00m\u001b[38;5;124m are missing from data.\u001b[39m\u001b[38;5;124m'\u001b[39m\u001b[38;5;241m.\u001b[39mformat(t))\n\u001b[1;32m   1037\u001b[0m \u001b[38;5;28;01mif\u001b[39;00m data \u001b[38;5;129;01mis\u001b[39;00m \u001b[38;5;129;01mnot\u001b[39;00m \u001b[38;5;28;01mNone\u001b[39;00m:\n\u001b[1;32m   1038\u001b[0m     \u001b[38;5;28mself\u001b[39m\u001b[38;5;241m.\u001b[39mload_data(data, covariance\u001b[38;5;241m=\u001b[39mcov, groups\u001b[38;5;241m=\u001b[39mgroups)\n",
      "\u001b[0;31mKeyError\u001b[0m: 'Variables FOG_Index, Is_Photo are missing from data.'"
     ]
    }
   ],
   "source": [
    "# SEM 모델 정의\n",
    "desc = \"\"\"\n",
    "# Latent variables\n",
    "Heuristic =~ Rating + Average_Rating + Is_Photo + Text_Length + Time_Lapsed + Deviation_Of_Star_Ratings \n",
    "Systematic =~ FOG_Index + Depth + Breadth + Interaction\n",
    "\n",
    "# Structural relationships\n",
    "Helpfulness ~ Heuristic + Systematic\n",
    "\"\"\"\n",
    "\n",
    "# 모델 생성 및 피팅\n",
    "model = Model(desc)\n",
    "model.fit(coursera_scaled)  \n",
    "\n",
    "# 결과 출력\n",
    "params = model.inspect()\n",
    "print(params)\n",
    "\n",
    "# 🔹 모델 적합도 지표 계산\n",
    "fit_stats = calc_stats(model)\n",
    "\n",
    "# 🔹 적합도 지표 출력\n",
    "print(\"\\n모델 적합도 지표:\")\n",
    "print(fit_stats)"
   ]
  },
  {
   "cell_type": "markdown",
   "id": "b3fe3064-e399-423e-b685-c449cf766ed5",
   "metadata": {},
   "source": [
    "## audible"
   ]
  },
  {
   "cell_type": "code",
   "execution_count": 33,
   "id": "acb2d4c8-9fff-4da6-9cf9-b6faa3d25083",
   "metadata": {},
   "outputs": [
    {
     "ename": "KeyError",
     "evalue": "'Variables FOG_Index, Breadth, Is_Photo, Depth, Time_Lapsed, Deviation_Of_Star_Ratings, Text_Length are missing from data.'",
     "output_type": "error",
     "traceback": [
      "\u001b[0;31m---------------------------------------------------------------------------\u001b[0m",
      "\u001b[0;31mKeyError\u001b[0m                                  Traceback (most recent call last)",
      "Cell \u001b[0;32mIn[33], line 13\u001b[0m\n\u001b[1;32m     11\u001b[0m \u001b[38;5;66;03m# 모델 생성 및 피팅\u001b[39;00m\n\u001b[1;32m     12\u001b[0m model \u001b[38;5;241m=\u001b[39m Model(desc)\n\u001b[0;32m---> 13\u001b[0m \u001b[43mmodel\u001b[49m\u001b[38;5;241;43m.\u001b[39;49m\u001b[43mfit\u001b[49m\u001b[43m(\u001b[49m\u001b[43maudible_scaled\u001b[49m\u001b[43m)\u001b[49m  \n\u001b[1;32m     15\u001b[0m \u001b[38;5;66;03m# 결과 출력\u001b[39;00m\n\u001b[1;32m     16\u001b[0m params \u001b[38;5;241m=\u001b[39m model\u001b[38;5;241m.\u001b[39minspect()\n",
      "File \u001b[0;32m/opt/homebrew/Cellar/jupyterlab/4.3.3/libexec/lib/python3.13/site-packages/semopy/model.py:1097\u001b[0m, in \u001b[0;36mModel.fit\u001b[0;34m(self, data, cov, obj, solver, groups, clean_slate, regularization, n_samples, **kwargs)\u001b[0m\n\u001b[1;32m   1054\u001b[0m \u001b[38;5;28;01mdef\u001b[39;00m \u001b[38;5;21mfit\u001b[39m(\u001b[38;5;28mself\u001b[39m, data\u001b[38;5;241m=\u001b[39m\u001b[38;5;28;01mNone\u001b[39;00m, cov\u001b[38;5;241m=\u001b[39m\u001b[38;5;28;01mNone\u001b[39;00m, obj\u001b[38;5;241m=\u001b[39m\u001b[38;5;124m'\u001b[39m\u001b[38;5;124mMLW\u001b[39m\u001b[38;5;124m'\u001b[39m, solver\u001b[38;5;241m=\u001b[39m\u001b[38;5;124m'\u001b[39m\u001b[38;5;124mSLSQP\u001b[39m\u001b[38;5;124m'\u001b[39m, groups\u001b[38;5;241m=\u001b[39m\u001b[38;5;28;01mNone\u001b[39;00m,\n\u001b[1;32m   1055\u001b[0m         clean_slate\u001b[38;5;241m=\u001b[39m\u001b[38;5;28;01mFalse\u001b[39;00m, regularization\u001b[38;5;241m=\u001b[39m\u001b[38;5;28;01mNone\u001b[39;00m, n_samples\u001b[38;5;241m=\u001b[39m\u001b[38;5;28;01mNone\u001b[39;00m, \u001b[38;5;241m*\u001b[39m\u001b[38;5;241m*\u001b[39mkwargs):\n\u001b[1;32m   1056\u001b[0m \u001b[38;5;250m    \u001b[39m\u001b[38;5;124;03m\"\"\"\u001b[39;00m\n\u001b[1;32m   1057\u001b[0m \u001b[38;5;124;03m    Fit model to data.\u001b[39;00m\n\u001b[1;32m   1058\u001b[0m \n\u001b[0;32m   (...)\u001b[0m\n\u001b[1;32m   1095\u001b[0m \n\u001b[1;32m   1096\u001b[0m \u001b[38;5;124;03m    \"\"\"\u001b[39;00m\n\u001b[0;32m-> 1097\u001b[0m     \u001b[38;5;28;43mself\u001b[39;49m\u001b[38;5;241;43m.\u001b[39;49m\u001b[43mload\u001b[49m\u001b[43m(\u001b[49m\u001b[43mdata\u001b[49m\u001b[38;5;241;43m=\u001b[39;49m\u001b[43mdata\u001b[49m\u001b[43m,\u001b[49m\u001b[43m \u001b[49m\u001b[43mcov\u001b[49m\u001b[38;5;241;43m=\u001b[39;49m\u001b[43mcov\u001b[49m\u001b[43m,\u001b[49m\u001b[43m \u001b[49m\u001b[43mgroups\u001b[49m\u001b[38;5;241;43m=\u001b[39;49m\u001b[43mgroups\u001b[49m\u001b[43m,\u001b[49m\n\u001b[1;32m   1098\u001b[0m \u001b[43m              \u001b[49m\u001b[43mclean_slate\u001b[49m\u001b[38;5;241;43m=\u001b[39;49m\u001b[43mclean_slate\u001b[49m\u001b[43m,\u001b[49m\u001b[43m \u001b[49m\u001b[43mn_samples\u001b[49m\u001b[38;5;241;43m=\u001b[39;49m\u001b[43mn_samples\u001b[49m\u001b[43m)\u001b[49m\n\u001b[1;32m   1099\u001b[0m     \u001b[38;5;28;01mif\u001b[39;00m obj \u001b[38;5;241m==\u001b[39m \u001b[38;5;124m'\u001b[39m\u001b[38;5;124mFIML\u001b[39m\u001b[38;5;124m'\u001b[39m:\n\u001b[1;32m   1100\u001b[0m         \u001b[38;5;28;01mif\u001b[39;00m \u001b[38;5;129;01mnot\u001b[39;00m \u001b[38;5;28mhasattr\u001b[39m(\u001b[38;5;28mself\u001b[39m, \u001b[38;5;124m'\u001b[39m\u001b[38;5;124mmx_data\u001b[39m\u001b[38;5;124m'\u001b[39m):\n",
      "File \u001b[0;32m/opt/homebrew/Cellar/jupyterlab/4.3.3/libexec/lib/python3.13/site-packages/semopy/model.py:1036\u001b[0m, in \u001b[0;36mModel.load\u001b[0;34m(self, data, cov, groups, clean_slate, n_samples)\u001b[0m\n\u001b[1;32m   1034\u001b[0m \u001b[38;5;28;01mif\u001b[39;00m missing:\n\u001b[1;32m   1035\u001b[0m     t \u001b[38;5;241m=\u001b[39m \u001b[38;5;124m'\u001b[39m\u001b[38;5;124m, \u001b[39m\u001b[38;5;124m'\u001b[39m\u001b[38;5;241m.\u001b[39mjoin(missing)\n\u001b[0;32m-> 1036\u001b[0m     \u001b[38;5;28;01mraise\u001b[39;00m \u001b[38;5;167;01mKeyError\u001b[39;00m(\u001b[38;5;124m'\u001b[39m\u001b[38;5;124mVariables \u001b[39m\u001b[38;5;132;01m{}\u001b[39;00m\u001b[38;5;124m are missing from data.\u001b[39m\u001b[38;5;124m'\u001b[39m\u001b[38;5;241m.\u001b[39mformat(t))\n\u001b[1;32m   1037\u001b[0m \u001b[38;5;28;01mif\u001b[39;00m data \u001b[38;5;129;01mis\u001b[39;00m \u001b[38;5;129;01mnot\u001b[39;00m \u001b[38;5;28;01mNone\u001b[39;00m:\n\u001b[1;32m   1038\u001b[0m     \u001b[38;5;28mself\u001b[39m\u001b[38;5;241m.\u001b[39mload_data(data, covariance\u001b[38;5;241m=\u001b[39mcov, groups\u001b[38;5;241m=\u001b[39mgroups)\n",
      "\u001b[0;31mKeyError\u001b[0m: 'Variables FOG_Index, Breadth, Is_Photo, Depth, Time_Lapsed, Deviation_Of_Star_Ratings, Text_Length are missing from data.'"
     ]
    }
   ],
   "source": [
    "# SEM 모델 정의\n",
    "desc = \"\"\"\n",
    "# Latent variables\n",
    "Heuristic =~ Rating + Average_Rating + Is_Photo + Text_Length + Time_Lapsed + Deviation_Of_Star_Ratings \n",
    "Systematic =~ FOG_Index + Depth + Breadth + Interaction\n",
    "\n",
    "# Structural relationships\n",
    "Helpfulness ~ Heuristic + Systematic\n",
    "\"\"\"\n",
    "\n",
    "# 모델 생성 및 피팅\n",
    "model = Model(desc)\n",
    "model.fit(audible_scaled)  \n",
    "\n",
    "# 결과 출력\n",
    "params = model.inspect()\n",
    "print(params)\n",
    "\n",
    "# 🔹 모델 적합도 지표 계산\n",
    "fit_stats = calc_stats(model)\n",
    "\n",
    "# 🔹 적합도 지표 출력\n",
    "print(\"\\n모델 적합도 지표:\")\n",
    "print(fit_stats)"
   ]
  },
  {
   "cell_type": "code",
   "execution_count": null,
   "id": "e5691dd5-6775-4548-82b6-c79d82a25fad",
   "metadata": {},
   "outputs": [],
   "source": []
  },
  {
   "cell_type": "code",
   "execution_count": null,
   "id": "940c27b4-2c09-4bee-9dbe-f70880882969",
   "metadata": {},
   "outputs": [],
   "source": []
  },
  {
   "cell_type": "code",
   "execution_count": null,
   "id": "5b4124ca-2f47-4e0f-973b-68cffe5b1d92",
   "metadata": {},
   "outputs": [],
   "source": []
  }
 ],
 "metadata": {
  "kernelspec": {
   "display_name": "Python 3 (ipykernel)",
   "language": "python",
   "name": "python3"
  },
  "language_info": {
   "codemirror_mode": {
    "name": "ipython",
    "version": 3
   },
   "file_extension": ".py",
   "mimetype": "text/x-python",
   "name": "python",
   "nbconvert_exporter": "python",
   "pygments_lexer": "ipython3",
   "version": "3.13.1"
  }
 },
 "nbformat": 4,
 "nbformat_minor": 5
}
