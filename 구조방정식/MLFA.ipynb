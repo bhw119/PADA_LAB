{
 "cells": [
  {
   "cell_type": "code",
   "execution_count": null,
   "id": "539b757e-b35b-49e7-bdf1-1b6bf5391666",
   "metadata": {},
   "outputs": [],
   "source": [
    "import numpy as np\n",
    "import pandas as pd\n",
    "import matplotlib.pyplot as plt\n",
    "from factor_analyzer import FactorAnalyzer\n",
    "from factor_analyzer.factor_analyzer import calculate_bartlett_sphericity, calculate_kmo\n",
    "\n",
    "df = pd.read_csv(\"../preprocessed/preprocessed_hotel.csv\") \n",
    "\n",
    "\n",
    "# Bartlett’s Test (구형성 검정) & KMO Test\n",
    "bartlett_test, p_value = calculate_bartlett_sphericity(df)\n",
    "print(f\"Bartlett Test: {bartlett_test}, p-value: {p_value}\")\n",
    "\n",
    "kmo_all, kmo_model = calculate_kmo(df)\n",
    "print(f\"KMO Test Score: {kmo_model}\")\n",
    "\n",
    "# 최적 요인 개수 결정 (스크리 플롯)\n",
    "fa = FactorAnalyzer(rotation=None, method=\"ml\")  # MLFA 적용\n",
    "fa.fit(df)\n",
    "\n",
    "ev, _ = fa.get_eigenvalues()  # 고유값 추출\n",
    "plt.figure(figsize=(8, 5))\n",
    "plt.scatter(range(1, len(ev) + 1), ev, label=\"Eigenvalues\")\n",
    "plt.plot(range(1, len(ev) + 1), ev, label=\"Scree Plot\")\n",
    "plt.axhline(y=1, color=\"r\", linestyle=\"--\", label=\"Kaiser Criterion (λ=1)\")\n",
    "plt.xlabel(\"Factors\")\n",
    "plt.ylabel(\"Eigenvalue\")\n",
    "plt.legend()\n",
    "plt.title(\"Scree Plot\")\n",
    "plt.show()\n",
    "\n",
    "# MLFA 수행 (최적 요인 개수 선택 후)\n",
    "n_factors = sum(ev > 1)  # Kaiser 기준 사용 (λ > 1)\n",
    "fa = FactorAnalyzer(n_factors=n_factors, rotation=\"varimax\", method=\"ml\")\n",
    "fa.fit(df)\n",
    "\n",
    "# MLFA 결과 해석\n",
    "loadings = pd.DataFrame(fa.loadings_, index=df.columns, columns=[f\"Factor {i+1}\" for i in range(n_factors)])\n",
    "print(loadings)\n",
    "\n",
    "# 공통성 추출\n",
    "communalities = pd.DataFrame(fa.get_communalities(), index=df.columns, columns=[\"Communalities\"])\n",
    "print(communalities)\n"
   ]
  },
  {
   "cell_type": "code",
   "execution_count": null,
   "id": "b7fb3843-ee26-4557-b11d-ca26911b8745",
   "metadata": {},
   "outputs": [],
   "source": []
  }
 ],
 "metadata": {
  "kernelspec": {
   "display_name": "Python 3 (ipykernel)",
   "language": "python",
   "name": "python3"
  },
  "language_info": {
   "codemirror_mode": {
    "name": "ipython",
    "version": 3
   },
   "file_extension": ".py",
   "mimetype": "text/x-python",
   "name": "python",
   "nbconvert_exporter": "python",
   "pygments_lexer": "ipython3",
   "version": "3.13.1"
  }
 },
 "nbformat": 4,
 "nbformat_minor": 5
}
