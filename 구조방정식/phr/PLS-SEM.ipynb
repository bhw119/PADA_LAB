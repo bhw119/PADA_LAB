{
 "cells": [
  {
   "cell_type": "code",
   "execution_count": 7,
   "id": "879c9d49",
   "metadata": {},
   "outputs": [],
   "source": [
    "import pathpy as pp"
   ]
  },
  {
   "cell_type": "code",
   "execution_count": 8,
   "id": "ae05efb4",
   "metadata": {},
   "outputs": [
    {
     "ename": "AttributeError",
     "evalue": "module 'pathpy' has no attribute 'PLSPathModel'",
     "output_type": "error",
     "traceback": [
      "\u001b[0;31m---------------------------------------------------------------------------\u001b[0m",
      "\u001b[0;31mAttributeError\u001b[0m                            Traceback (most recent call last)",
      "Input \u001b[0;32mIn [8]\u001b[0m, in \u001b[0;36m<cell line: 1>\u001b[0;34m()\u001b[0m\n\u001b[0;32m----> 1\u001b[0m model \u001b[38;5;241m=\u001b[39m \u001b[43mpp\u001b[49m\u001b[38;5;241;43m.\u001b[39;49m\u001b[43mPLSPathModel\u001b[49m()\n",
      "\u001b[0;31mAttributeError\u001b[0m: module 'pathpy' has no attribute 'PLSPathModel'"
     ]
    }
   ],
   "source": [
    "model = pp.PLSPathModel()"
   ]
  },
  {
   "cell_type": "code",
   "execution_count": 6,
   "id": "d9cbea13",
   "metadata": {},
   "outputs": [
    {
     "name": "stdout",
     "output_type": "stream",
     "text": [
      "Collecting pathpy\n",
      "  Downloading pathpy-2.2.0-py2.py3-none-any.whl.metadata (8.3 kB)\n",
      "Requirement already satisfied: numpy in /Users/phr/opt/anaconda3/lib/python3.9/site-packages (from pathpy) (1.22.4)\n",
      "Requirement already satisfied: scipy in /Users/phr/opt/anaconda3/lib/python3.9/site-packages (from pathpy) (1.7.3)\n",
      "Downloading pathpy-2.2.0-py2.py3-none-any.whl (231 kB)\n",
      "Installing collected packages: pathpy\n",
      "Successfully installed pathpy-2.2.0\n"
     ]
    }
   ],
   "source": []
  },
  {
   "cell_type": "code",
   "execution_count": null,
   "id": "61c211b2",
   "metadata": {},
   "outputs": [],
   "source": []
  }
 ],
 "metadata": {
  "kernelspec": {
   "display_name": "Python 3 (ipykernel)",
   "language": "python",
   "name": "python3"
  },
  "language_info": {
   "codemirror_mode": {
    "name": "ipython",
    "version": 3
   },
   "file_extension": ".py",
   "mimetype": "text/x-python",
   "name": "python",
   "nbconvert_exporter": "python",
   "pygments_lexer": "ipython3",
   "version": "3.9.12"
  }
 },
 "nbformat": 4,
 "nbformat_minor": 5
}
