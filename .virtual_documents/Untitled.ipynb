import pandas as pd

# 데이터 불러오기
df = pd.read_csv("/Users/hyunwoo/Desktop/PADA/PADA_LAB/raw/audible_reviews.csv")

# 1000개 랜덤 샘플링
sampled_df = df.sample(n=1000, random_state=42)  # random_state를 고정하면 동일한 결과가 재현됨

# 샘플링 결과 확인
print(sampled_df)

# 샘플링 데이터를 새로운 CSV 파일로 저장
sampled_df.to_csv("/Users/hyunwoo/Desktop/PADA/PADA_LAB/audible_sampled.csv", index=False)





